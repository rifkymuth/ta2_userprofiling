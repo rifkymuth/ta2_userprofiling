{
 "cells": [
  {
   "cell_type": "code",
   "execution_count": 2,
   "id": "df607107-9cff-48b5-99ec-bd0d0968b61a",
   "metadata": {
    "executionInfo": {
     "elapsed": 2102,
     "status": "ok",
     "timestamp": 1745994732326,
     "user": {
      "displayName": "Ira Ekanda Putri",
      "userId": "16829777542153973849"
     },
     "user_tz": -420
    },
    "id": "df607107-9cff-48b5-99ec-bd0d0968b61a"
   },
   "outputs": [],
   "source": [
    "import numpy as np\n",
    "import pandas as pd\n",
    "import matplotlib.cm as cm\n",
    "import matplotlib.pyplot as plt\n",
    "import seaborn as sns\n",
    "from sklearn.model_selection import train_test_split\n",
    "from sklearn.svm import SVC\n",
    "from gensim.utils import simple_preprocess\n",
    "from gensim.models import Word2Vec\n",
    "from sklearn.metrics import accuracy_score, confusion_matrix, precision_score, recall_score, f1_score"
   ]
  },
  {
   "cell_type": "markdown",
   "id": "75af970e-944a-41b6-b09f-75c2f71cc53f",
   "metadata": {
    "id": "75af970e-944a-41b6-b09f-75c2f71cc53f"
   },
   "source": [
    "## Membaca Dataset Hasil Preprocessing"
   ]
  },
  {
   "cell_type": "code",
   "execution_count": 3,
   "id": "18328705",
   "metadata": {},
   "outputs": [],
   "source": [
    "PATH = \"\""
   ]
  },
  {
   "cell_type": "code",
   "execution_count": 4,
   "id": "0c31130a-1b5a-481f-8a2e-8d3b7b866a97",
   "metadata": {
    "colab": {
     "base_uri": "https://localhost:8080/",
     "height": 510
    },
    "executionInfo": {
     "elapsed": 1249,
     "status": "ok",
     "timestamp": 1745994757273,
     "user": {
      "displayName": "Ira Ekanda Putri",
      "userId": "16829777542153973849"
     },
     "user_tz": -420
    },
    "id": "0c31130a-1b5a-481f-8a2e-8d3b7b866a97",
    "outputId": "9293787d-a536-436c-c9c9-77fcfbeeaed3"
   },
   "outputs": [
    {
     "data": {
      "text/html": [
       "<div>\n",
       "<style scoped>\n",
       "    .dataframe tbody tr th:only-of-type {\n",
       "        vertical-align: middle;\n",
       "    }\n",
       "\n",
       "    .dataframe tbody tr th {\n",
       "        vertical-align: top;\n",
       "    }\n",
       "\n",
       "    .dataframe thead th {\n",
       "        text-align: right;\n",
       "    }\n",
       "</style>\n",
       "<table border=\"1\" class=\"dataframe\">\n",
       "  <thead>\n",
       "    <tr style=\"text-align: right;\">\n",
       "      <th></th>\n",
       "      <th>date</th>\n",
       "      <th>url</th>\n",
       "      <th>title</th>\n",
       "      <th>category</th>\n",
       "      <th>title_preprocessing</th>\n",
       "    </tr>\n",
       "  </thead>\n",
       "  <tbody>\n",
       "    <tr>\n",
       "      <th>0</th>\n",
       "      <td>02/26/2020</td>\n",
       "      <td>https://finance.detik.com/berita-ekonomi-bisni...</td>\n",
       "      <td>Kemnaker Awasi TKA di Meikarta</td>\n",
       "      <td>finance</td>\n",
       "      <td>kemnaker tka meikarta</td>\n",
       "    </tr>\n",
       "    <tr>\n",
       "      <th>1</th>\n",
       "      <td>02/26/2020</td>\n",
       "      <td>https://finance.detik.com/berita-ekonomi-bisni...</td>\n",
       "      <td>BNI Digitalkan BNI Java Jazz 2020</td>\n",
       "      <td>finance</td>\n",
       "      <td>bni bni java jazz</td>\n",
       "    </tr>\n",
       "    <tr>\n",
       "      <th>2</th>\n",
       "      <td>02/26/2020</td>\n",
       "      <td>https://finance.detik.com/berita-ekonomi-bisni...</td>\n",
       "      <td>Terbang ke Australia, Edhy Prabowo Mau Genjot ...</td>\n",
       "      <td>finance</td>\n",
       "      <td>terbang edhy prabowo genjot budi daya lobster</td>\n",
       "    </tr>\n",
       "    <tr>\n",
       "      <th>3</th>\n",
       "      <td>02/26/2020</td>\n",
       "      <td>https://finance.detik.com/moneter/d-4916133/oj...</td>\n",
       "      <td>OJK Siapkan Stimulus Ekonomi Antisipasi Dampak...</td>\n",
       "      <td>finance</td>\n",
       "      <td>ojk siap stimulus ekonomi dampak corona</td>\n",
       "    </tr>\n",
       "    <tr>\n",
       "      <th>4</th>\n",
       "      <td>02/26/2020</td>\n",
       "      <td>https://finance.detik.com/berita-ekonomi-bisni...</td>\n",
       "      <td>Saran Buat Anies-RK yang Mangkir Rapat Banjir ...</td>\n",
       "      <td>finance</td>\n",
       "      <td>saran mangkir rapat banjir dpr</td>\n",
       "    </tr>\n",
       "    <tr>\n",
       "      <th>...</th>\n",
       "      <td>...</td>\n",
       "      <td>...</td>\n",
       "      <td>...</td>\n",
       "      <td>...</td>\n",
       "      <td>...</td>\n",
       "    </tr>\n",
       "    <tr>\n",
       "      <th>70208</th>\n",
       "      <td>03/27/2020</td>\n",
       "      <td>https://sport.detik.com/detiktv/d-4954996/untu...</td>\n",
       "      <td>Untuk Urusan Gaji, Ter Stegen Belum Bisa Samai...</td>\n",
       "      <td>sport</td>\n",
       "      <td>urus gaji ter stegen sama messi</td>\n",
       "    </tr>\n",
       "    <tr>\n",
       "      <th>70209</th>\n",
       "      <td>03/27/2020</td>\n",
       "      <td>https://sport.detik.com/detiktv/d-4954916/vide...</td>\n",
       "      <td>Video Stadion Sepakbola di Dunia Beralih Fungs...</td>\n",
       "      <td>sport</td>\n",
       "      <td>video stadion sepakbola dunia alih fungsi lawa...</td>\n",
       "    </tr>\n",
       "    <tr>\n",
       "      <th>70210</th>\n",
       "      <td>03/27/2020</td>\n",
       "      <td>https://sport.detik.com/raket/d-4954704/olimpi...</td>\n",
       "      <td>Olimpiade 2020 Ditunda, Hendra Setiawan Berjua...</td>\n",
       "      <td>sport</td>\n",
       "      <td>olimpiade tunda hendra setiawan juang lawan usia</td>\n",
       "    </tr>\n",
       "    <tr>\n",
       "      <th>70211</th>\n",
       "      <td>03/27/2020</td>\n",
       "      <td>https://sport.detik.com/raket/d-4954759/wimble...</td>\n",
       "      <td>Wimbledon 2020 Terancam Batal, Panitia Rapat D...</td>\n",
       "      <td>sport</td>\n",
       "      <td>wimbledon ancam batal panitia rapat darurat mi...</td>\n",
       "    </tr>\n",
       "    <tr>\n",
       "      <th>70212</th>\n",
       "      <td>03/27/2020</td>\n",
       "      <td>https://sport.detik.com/sport-lain/d-4954677/s...</td>\n",
       "      <td>Sempat Bertemu Pangeran Charles, Anthony Joshu...</td>\n",
       "      <td>sport</td>\n",
       "      <td>temu pangeran charles joshua kena corona</td>\n",
       "    </tr>\n",
       "  </tbody>\n",
       "</table>\n",
       "<p>70213 rows × 5 columns</p>\n",
       "</div>"
      ],
      "text/plain": [
       "             date                                                url  \\\n",
       "0      02/26/2020  https://finance.detik.com/berita-ekonomi-bisni...   \n",
       "1      02/26/2020  https://finance.detik.com/berita-ekonomi-bisni...   \n",
       "2      02/26/2020  https://finance.detik.com/berita-ekonomi-bisni...   \n",
       "3      02/26/2020  https://finance.detik.com/moneter/d-4916133/oj...   \n",
       "4      02/26/2020  https://finance.detik.com/berita-ekonomi-bisni...   \n",
       "...           ...                                                ...   \n",
       "70208  03/27/2020  https://sport.detik.com/detiktv/d-4954996/untu...   \n",
       "70209  03/27/2020  https://sport.detik.com/detiktv/d-4954916/vide...   \n",
       "70210  03/27/2020  https://sport.detik.com/raket/d-4954704/olimpi...   \n",
       "70211  03/27/2020  https://sport.detik.com/raket/d-4954759/wimble...   \n",
       "70212  03/27/2020  https://sport.detik.com/sport-lain/d-4954677/s...   \n",
       "\n",
       "                                                   title category  \\\n",
       "0                         Kemnaker Awasi TKA di Meikarta  finance   \n",
       "1                      BNI Digitalkan BNI Java Jazz 2020  finance   \n",
       "2      Terbang ke Australia, Edhy Prabowo Mau Genjot ...  finance   \n",
       "3      OJK Siapkan Stimulus Ekonomi Antisipasi Dampak...  finance   \n",
       "4      Saran Buat Anies-RK yang Mangkir Rapat Banjir ...  finance   \n",
       "...                                                  ...      ...   \n",
       "70208  Untuk Urusan Gaji, Ter Stegen Belum Bisa Samai...    sport   \n",
       "70209  Video Stadion Sepakbola di Dunia Beralih Fungs...    sport   \n",
       "70210  Olimpiade 2020 Ditunda, Hendra Setiawan Berjua...    sport   \n",
       "70211  Wimbledon 2020 Terancam Batal, Panitia Rapat D...    sport   \n",
       "70212  Sempat Bertemu Pangeran Charles, Anthony Joshu...    sport   \n",
       "\n",
       "                                     title_preprocessing  \n",
       "0                                  kemnaker tka meikarta  \n",
       "1                                      bni bni java jazz  \n",
       "2          terbang edhy prabowo genjot budi daya lobster  \n",
       "3                ojk siap stimulus ekonomi dampak corona  \n",
       "4                         saran mangkir rapat banjir dpr  \n",
       "...                                                  ...  \n",
       "70208                    urus gaji ter stegen sama messi  \n",
       "70209  video stadion sepakbola dunia alih fungsi lawa...  \n",
       "70210   olimpiade tunda hendra setiawan juang lawan usia  \n",
       "70211  wimbledon ancam batal panitia rapat darurat mi...  \n",
       "70212           temu pangeran charles joshua kena corona  \n",
       "\n",
       "[70213 rows x 5 columns]"
      ]
     },
     "execution_count": 4,
     "metadata": {},
     "output_type": "execute_result"
    }
   ],
   "source": [
    "data = pd.read_csv(PATH + 'detik_news_title_preprocessing.csv', delimiter=',')\n",
    "data"
   ]
  },
  {
   "cell_type": "markdown",
   "id": "059c5f43-a9b0-48c0-ab01-babc8ab1ba07",
   "metadata": {
    "id": "059c5f43-a9b0-48c0-ab01-babc8ab1ba07"
   },
   "source": [
    "Menampilkan informasi data."
   ]
  },
  {
   "cell_type": "code",
   "execution_count": 5,
   "id": "051a38bc-114e-4663-87f7-7bdffdba5231",
   "metadata": {
    "colab": {
     "base_uri": "https://localhost:8080/"
    },
    "executionInfo": {
     "elapsed": 8,
     "status": "ok",
     "timestamp": 1745994758602,
     "user": {
      "displayName": "Ira Ekanda Putri",
      "userId": "16829777542153973849"
     },
     "user_tz": -420
    },
    "id": "051a38bc-114e-4663-87f7-7bdffdba5231",
    "outputId": "4a007754-ce21-4bfa-f535-75c5de30fddb"
   },
   "outputs": [
    {
     "name": "stdout",
     "output_type": "stream",
     "text": [
      "<class 'pandas.core.frame.DataFrame'>\n",
      "RangeIndex: 70213 entries, 0 to 70212\n",
      "Data columns (total 5 columns):\n",
      " #   Column               Non-Null Count  Dtype \n",
      "---  ------               --------------  ----- \n",
      " 0   date                 70213 non-null  object\n",
      " 1   url                  70213 non-null  object\n",
      " 2   title                70213 non-null  object\n",
      " 3   category             70213 non-null  object\n",
      " 4   title_preprocessing  70194 non-null  object\n",
      "dtypes: object(5)\n",
      "memory usage: 2.7+ MB\n"
     ]
    }
   ],
   "source": [
    "data.info()"
   ]
  },
  {
   "cell_type": "markdown",
   "id": "83db4595-5093-4a54-9897-4a301c5cd1a7",
   "metadata": {
    "id": "83db4595-5093-4a54-9897-4a301c5cd1a7"
   },
   "source": [
    "Menampilkan jumlah data Null setiap kolom."
   ]
  },
  {
   "cell_type": "code",
   "execution_count": 6,
   "id": "96d77268-2a0b-4b0c-b9b0-da9ecaaee92d",
   "metadata": {
    "colab": {
     "base_uri": "https://localhost:8080/",
     "height": 272
    },
    "executionInfo": {
     "elapsed": 10,
     "status": "ok",
     "timestamp": 1745994761044,
     "user": {
      "displayName": "Ira Ekanda Putri",
      "userId": "16829777542153973849"
     },
     "user_tz": -420
    },
    "id": "96d77268-2a0b-4b0c-b9b0-da9ecaaee92d",
    "outputId": "20b00c44-97b3-4fc9-f9c3-3a4f9b68d37d"
   },
   "outputs": [
    {
     "data": {
      "text/plain": [
       "date                    0\n",
       "url                     0\n",
       "title                   0\n",
       "category                0\n",
       "title_preprocessing    19\n",
       "dtype: int64"
      ]
     },
     "execution_count": 6,
     "metadata": {},
     "output_type": "execute_result"
    }
   ],
   "source": [
    "data.isnull().sum()"
   ]
  },
  {
   "cell_type": "markdown",
   "id": "5460f918-14bf-404a-8d52-80720a7dc336",
   "metadata": {
    "id": "5460f918-14bf-404a-8d52-80720a7dc336"
   },
   "source": [
    "Menghapus data jika dalam satu baris terdapat data Null."
   ]
  },
  {
   "cell_type": "code",
   "execution_count": 7,
   "id": "00847f32-e7c6-4907-bf89-4e80be751892",
   "metadata": {
    "executionInfo": {
     "elapsed": 3,
     "status": "ok",
     "timestamp": 1745994772917,
     "user": {
      "displayName": "Ira Ekanda Putri",
      "userId": "16829777542153973849"
     },
     "user_tz": -420
    },
    "id": "00847f32-e7c6-4907-bf89-4e80be751892"
   },
   "outputs": [],
   "source": [
    "data = data.dropna().reset_index(drop=True)"
   ]
  },
  {
   "cell_type": "code",
   "execution_count": 8,
   "id": "51193bab-3a34-4ccf-bff8-958ade763768",
   "metadata": {
    "colab": {
     "base_uri": "https://localhost:8080/",
     "height": 272
    },
    "executionInfo": {
     "elapsed": 8,
     "status": "ok",
     "timestamp": 1745994773622,
     "user": {
      "displayName": "Ira Ekanda Putri",
      "userId": "16829777542153973849"
     },
     "user_tz": -420
    },
    "id": "51193bab-3a34-4ccf-bff8-958ade763768",
    "outputId": "219a06df-b04e-4e55-9ec6-0f315681d7d3"
   },
   "outputs": [
    {
     "data": {
      "text/plain": [
       "date                   0\n",
       "url                    0\n",
       "title                  0\n",
       "category               0\n",
       "title_preprocessing    0\n",
       "dtype: int64"
      ]
     },
     "execution_count": 8,
     "metadata": {},
     "output_type": "execute_result"
    }
   ],
   "source": [
    "data.isnull().sum()"
   ]
  },
  {
   "cell_type": "markdown",
   "id": "70ebe011-317f-470d-b285-8a25bf37be90",
   "metadata": {
    "id": "70ebe011-317f-470d-b285-8a25bf37be90"
   },
   "source": [
    "Menampilkan jumlah data masing-masing label."
   ]
  },
  {
   "cell_type": "code",
   "execution_count": 9,
   "id": "e5ef49d4-fc91-479f-86cb-0a47bcb0ad2f",
   "metadata": {
    "colab": {
     "base_uri": "https://localhost:8080/",
     "height": 210
    },
    "executionInfo": {
     "elapsed": 6,
     "status": "ok",
     "timestamp": 1745994775911,
     "user": {
      "displayName": "Ira Ekanda Putri",
      "userId": "16829777542153973849"
     },
     "user_tz": -420
    },
    "id": "e5ef49d4-fc91-479f-86cb-0a47bcb0ad2f",
    "outputId": "4a05baad-332a-4f6e-85e6-30018f127fc2"
   },
   "outputs": [
    {
     "data": {
      "text/plain": [
       "category\n",
       "news       32352\n",
       "hot        16325\n",
       "finance    14165\n",
       "health      4917\n",
       "sport       2435\n",
       "Name: count, dtype: int64"
      ]
     },
     "execution_count": 9,
     "metadata": {},
     "output_type": "execute_result"
    }
   ],
   "source": [
    "data['category'].value_counts()"
   ]
  },
  {
   "cell_type": "code",
   "execution_count": 10,
   "id": "99dc0e4f-376b-4d6c-8600-de395b6070dc",
   "metadata": {
    "colab": {
     "base_uri": "https://localhost:8080/",
     "height": 487
    },
    "executionInfo": {
     "elapsed": 234,
     "status": "ok",
     "timestamp": 1745994777309,
     "user": {
      "displayName": "Ira Ekanda Putri",
      "userId": "16829777542153973849"
     },
     "user_tz": -420
    },
    "id": "99dc0e4f-376b-4d6c-8600-de395b6070dc",
    "outputId": "b46c020b-e9df-4480-92d3-ce26f7a904e9"
   },
   "outputs": [
    {
     "data": {
      "image/png": "[encoded data removed]",
      "text/plain": [
       "<Figure size 1000x500 with 1 Axes>"
      ]
     },
     "metadata": {},
     "output_type": "display_data"
    }
   ],
   "source": [
    "names = data.groupby(['category']).size().index.to_list()\n",
    "values = data.groupby(['category']).size().to_list()\n",
    "\n",
    "# Menghasilkan warna menggunakan colormap\n",
    "num_colors = len(names)\n",
    "colors = cm.viridis(np.linspace(0, 1, num_colors))\n",
    "\n",
    "plt.figure(figsize=(10, 5))\n",
    "plt.bar(names, values, color=colors)\n",
    "plt.xlabel('Kelas')\n",
    "plt.ylabel('Jumlah Data')\n",
    "plt.title('Perbandingan jumlah data setiap kelas')\n",
    "plt.show()"
   ]
  },
  {
   "cell_type": "markdown",
   "id": "f9ebac52",
   "metadata": {},
   "source": [
    "## Make smaller dataset"
   ]
  },
  {
   "cell_type": "code",
   "execution_count": 11,
   "id": "ea72e6dd",
   "metadata": {},
   "outputs": [
    {
     "data": {
      "text/plain": [
       "category\n",
       "finance    2400\n",
       "health     2400\n",
       "hot        2400\n",
       "news       2400\n",
       "sport      2400\n",
       "Name: count, dtype: int64"
      ]
     },
     "execution_count": 11,
     "metadata": {},
     "output_type": "execute_result"
    }
   ],
   "source": [
    "data_small = data.groupby(by=\"category\").sample(2400)\n",
    "data_small['category'].value_counts()"
   ]
  },
  {
   "cell_type": "code",
   "execution_count": 13,
   "id": "35adbcaf",
   "metadata": {},
   "outputs": [
    {
     "data": {
      "text/plain": [
       "category\n",
       "finance    2400\n",
       "health     2400\n",
       "hot        2400\n",
       "news       2400\n",
       "sport      2400\n",
       "Name: count, dtype: int64"
      ]
     },
     "execution_count": 13,
     "metadata": {},
     "output_type": "execute_result"
    }
   ],
   "source": [
    "data_small['category'].value_counts()"
   ]
  },
  {
   "cell_type": "markdown",
   "id": "b965559b-a6de-4551-ac9a-10bf59bb396f",
   "metadata": {
    "id": "b965559b-a6de-4551-ac9a-10bf59bb396f"
   },
   "source": [
    "## Word2Vec"
   ]
  },
  {
   "cell_type": "code",
   "execution_count": 20,
   "id": "0090d785-5af0-4df1-8c67-65fccfe8cd2d",
   "metadata": {
    "executionInfo": {
     "elapsed": 4,
     "status": "ok",
     "timestamp": 1745994785359,
     "user": {
      "displayName": "Ira Ekanda Putri",
      "userId": "16829777542153973849"
     },
     "user_tz": -420
    },
    "id": "0090d785-5af0-4df1-8c67-65fccfe8cd2d"
   },
   "outputs": [],
   "source": [
    "X = data_small['title_preprocessing']  # Kolom teks\n",
    "y = data_small['category']  # Kolom label"
   ]
  },
  {
   "cell_type": "code",
   "execution_count": 21,
   "id": "09031867-83d7-4c46-82e0-6a6639324982",
   "metadata": {
    "colab": {
     "base_uri": "https://localhost:8080/",
     "height": 424
    },
    "executionInfo": {
     "elapsed": 185,
     "status": "ok",
     "timestamp": 1745994800711,
     "user": {
      "displayName": "Ira Ekanda Putri",
      "userId": "16829777542153973849"
     },
     "user_tz": -420
    },
    "id": "09031867-83d7-4c46-82e0-6a6639324982",
    "outputId": "dc1b1f48-b1e6-4e6f-95ec-d54ed079b33a"
   },
   "outputs": [
    {
     "data": {
      "text/html": [
       "<div>\n",
       "<style scoped>\n",
       "    .dataframe tbody tr th:only-of-type {\n",
       "        vertical-align: middle;\n",
       "    }\n",
       "\n",
       "    .dataframe tbody tr th {\n",
       "        vertical-align: top;\n",
       "    }\n",
       "\n",
       "    .dataframe thead th {\n",
       "        text-align: right;\n",
       "    }\n",
       "</style>\n",
       "<table border=\"1\" class=\"dataframe\">\n",
       "  <thead>\n",
       "    <tr style=\"text-align: right;\">\n",
       "      <th></th>\n",
       "      <th>title_preprocessing</th>\n",
       "      <th>processed_text</th>\n",
       "    </tr>\n",
       "  </thead>\n",
       "  <tbody>\n",
       "    <tr>\n",
       "      <th>9063</th>\n",
       "      <td>harga emas turun</td>\n",
       "      <td>[harga, emas, turun]</td>\n",
       "    </tr>\n",
       "    <tr>\n",
       "      <th>5393</th>\n",
       "      <td>pemda endap uang bank semprit tito karnavian</td>\n",
       "      <td>[pemda, endap, uang, bank, semprit, tito, karn...</td>\n",
       "    </tr>\n",
       "    <tr>\n",
       "      <th>1973</th>\n",
       "      <td>saking susah cari kerja lulus rela awat lansia</td>\n",
       "      <td>[saking, susah, cari, kerja, lulus, rela, awat...</td>\n",
       "    </tr>\n",
       "    <tr>\n",
       "      <th>538</th>\n",
       "      <td>google klaim dolar jual beli</td>\n",
       "      <td>[google, klaim, dolar, jual, beli]</td>\n",
       "    </tr>\n",
       "    <tr>\n",
       "      <th>4399</th>\n",
       "      <td>iran trump irak</td>\n",
       "      <td>[iran, trump, irak]</td>\n",
       "    </tr>\n",
       "    <tr>\n",
       "      <th>...</th>\n",
       "      <td>...</td>\n",
       "      <td>...</td>\n",
       "    </tr>\n",
       "    <tr>\n",
       "      <th>68442</th>\n",
       "      <td>jadwal england</td>\n",
       "      <td>[jadwal, england]</td>\n",
       "    </tr>\n",
       "    <tr>\n",
       "      <th>68380</th>\n",
       "      <td>orang tottenham hotspur positif corona</td>\n",
       "      <td>[orang, tottenham, hotspur, positif, corona]</td>\n",
       "    </tr>\n",
       "    <tr>\n",
       "      <th>68429</th>\n",
       "      <td>rahmat hidayat juara junior ikut jejak hendra ...</td>\n",
       "      <td>[rahmat, hidayat, juara, junior, ikut, jejak, ...</td>\n",
       "    </tr>\n",
       "    <tr>\n",
       "      <th>68263</th>\n",
       "      <td>leo rolly bukti level senior</td>\n",
       "      <td>[leo, rolly, bukti, level, senior]</td>\n",
       "    </tr>\n",
       "    <tr>\n",
       "      <th>69715</th>\n",
       "      <td>jelang olimpiade eng hian siklus haid</td>\n",
       "      <td>[jelang, olimpiade, eng, hian, siklus, haid]</td>\n",
       "    </tr>\n",
       "  </tbody>\n",
       "</table>\n",
       "<p>12000 rows × 2 columns</p>\n",
       "</div>"
      ],
      "text/plain": [
       "                                     title_preprocessing  \\\n",
       "9063                                    harga emas turun   \n",
       "5393        pemda endap uang bank semprit tito karnavian   \n",
       "1973      saking susah cari kerja lulus rela awat lansia   \n",
       "538                         google klaim dolar jual beli   \n",
       "4399                                     iran trump irak   \n",
       "...                                                  ...   \n",
       "68442                                     jadwal england   \n",
       "68380             orang tottenham hotspur positif corona   \n",
       "68429  rahmat hidayat juara junior ikut jejak hendra ...   \n",
       "68263                       leo rolly bukti level senior   \n",
       "69715              jelang olimpiade eng hian siklus haid   \n",
       "\n",
       "                                          processed_text  \n",
       "9063                                [harga, emas, turun]  \n",
       "5393   [pemda, endap, uang, bank, semprit, tito, karn...  \n",
       "1973   [saking, susah, cari, kerja, lulus, rela, awat...  \n",
       "538                   [google, klaim, dolar, jual, beli]  \n",
       "4399                                 [iran, trump, irak]  \n",
       "...                                                  ...  \n",
       "68442                                  [jadwal, england]  \n",
       "68380       [orang, tottenham, hotspur, positif, corona]  \n",
       "68429  [rahmat, hidayat, juara, junior, ikut, jejak, ...  \n",
       "68263                 [leo, rolly, bukti, level, senior]  \n",
       "69715       [jelang, olimpiade, eng, hian, siklus, haid]  \n",
       "\n",
       "[12000 rows x 2 columns]"
      ]
     },
     "execution_count": 21,
     "metadata": {},
     "output_type": "execute_result"
    }
   ],
   "source": [
    "# Preprocess text for Word2Vec\n",
    "def preprocess_text(text):\n",
    "    return simple_preprocess(text)\n",
    "\n",
    "# Apply preprocessing to the text column\n",
    "X_df = pd.DataFrame({'title_preprocessing': data_small['title_preprocessing']})\n",
    "X_df['processed_text'] = X_df['title_preprocessing'].apply(preprocess_text)\n",
    "X_df"
   ]
  },
  {
   "cell_type": "code",
   "execution_count": 22,
   "id": "1bb8986f-8fc6-4d24-82c7-9f54763e6ab0",
   "metadata": {
    "executionInfo": {
     "elapsed": 699,
     "status": "ok",
     "timestamp": 1745994804255,
     "user": {
      "displayName": "Ira Ekanda Putri",
      "userId": "16829777542153973849"
     },
     "user_tz": -420
    },
    "id": "1bb8986f-8fc6-4d24-82c7-9f54763e6ab0"
   },
   "outputs": [],
   "source": [
    "# Prepare Word2Vec model\n",
    "# sg=1 : menggunakan skipgram\n",
    "word2vec_model = Word2Vec(sentences=X_df['processed_text'], vector_size=150, window=5, sg=1)"
   ]
  },
  {
   "cell_type": "code",
   "execution_count": 23,
   "id": "485ddafd-4d1a-428c-8053-4cba58ef6f02",
   "metadata": {
    "colab": {
     "base_uri": "https://localhost:8080/",
     "height": 424
    },
    "executionInfo": {
     "elapsed": 244,
     "status": "ok",
     "timestamp": 1745994807989,
     "user": {
      "displayName": "Ira Ekanda Putri",
      "userId": "16829777542153973849"
     },
     "user_tz": -420
    },
    "id": "485ddafd-4d1a-428c-8053-4cba58ef6f02",
    "outputId": "522e63f1-a006-415a-c34a-74a92edab1a9"
   },
   "outputs": [
    {
     "data": {
      "text/html": [
       "<div>\n",
       "<style scoped>\n",
       "    .dataframe tbody tr th:only-of-type {\n",
       "        vertical-align: middle;\n",
       "    }\n",
       "\n",
       "    .dataframe tbody tr th {\n",
       "        vertical-align: top;\n",
       "    }\n",
       "\n",
       "    .dataframe thead th {\n",
       "        text-align: right;\n",
       "    }\n",
       "</style>\n",
       "<table border=\"1\" class=\"dataframe\">\n",
       "  <thead>\n",
       "    <tr style=\"text-align: right;\">\n",
       "      <th></th>\n",
       "      <th>title_preprocessing</th>\n",
       "      <th>processed_text</th>\n",
       "      <th>word2vec</th>\n",
       "    </tr>\n",
       "  </thead>\n",
       "  <tbody>\n",
       "    <tr>\n",
       "      <th>9063</th>\n",
       "      <td>harga emas turun</td>\n",
       "      <td>[harga, emas, turun]</td>\n",
       "      <td>[-0.044055954, -0.11079609, 0.15794404, 0.1448...</td>\n",
       "    </tr>\n",
       "    <tr>\n",
       "      <th>5393</th>\n",
       "      <td>pemda endap uang bank semprit tito karnavian</td>\n",
       "      <td>[pemda, endap, uang, bank, semprit, tito, karn...</td>\n",
       "      <td>[-0.042243313, -0.09440703, 0.12887244, 0.1228...</td>\n",
       "    </tr>\n",
       "    <tr>\n",
       "      <th>1973</th>\n",
       "      <td>saking susah cari kerja lulus rela awat lansia</td>\n",
       "      <td>[saking, susah, cari, kerja, lulus, rela, awat...</td>\n",
       "      <td>[-0.058136903, -0.09416274, 0.12057579, 0.1197...</td>\n",
       "    </tr>\n",
       "    <tr>\n",
       "      <th>538</th>\n",
       "      <td>google klaim dolar jual beli</td>\n",
       "      <td>[google, klaim, dolar, jual, beli]</td>\n",
       "      <td>[-0.054525036, -0.085363485, 0.114021376, 0.12...</td>\n",
       "    </tr>\n",
       "    <tr>\n",
       "      <th>4399</th>\n",
       "      <td>iran trump irak</td>\n",
       "      <td>[iran, trump, irak]</td>\n",
       "      <td>[-0.06392362, -0.07763828, 0.10315969, 0.11796...</td>\n",
       "    </tr>\n",
       "    <tr>\n",
       "      <th>...</th>\n",
       "      <td>...</td>\n",
       "      <td>...</td>\n",
       "      <td>...</td>\n",
       "    </tr>\n",
       "    <tr>\n",
       "      <th>68442</th>\n",
       "      <td>jadwal england</td>\n",
       "      <td>[jadwal, england]</td>\n",
       "      <td>[-0.08528567, -0.07796863, 0.083887525, 0.1009...</td>\n",
       "    </tr>\n",
       "    <tr>\n",
       "      <th>68380</th>\n",
       "      <td>orang tottenham hotspur positif corona</td>\n",
       "      <td>[orang, tottenham, hotspur, positif, corona]</td>\n",
       "      <td>[-0.19609472, 0.014075954, 0.05328831, 0.08782...</td>\n",
       "    </tr>\n",
       "    <tr>\n",
       "      <th>68429</th>\n",
       "      <td>rahmat hidayat juara junior ikut jejak hendra ...</td>\n",
       "      <td>[rahmat, hidayat, juara, junior, ikut, jejak, ...</td>\n",
       "      <td>[-0.06428827, -0.07104124, 0.09907024, 0.11011...</td>\n",
       "    </tr>\n",
       "    <tr>\n",
       "      <th>68263</th>\n",
       "      <td>leo rolly bukti level senior</td>\n",
       "      <td>[leo, rolly, bukti, level, senior]</td>\n",
       "      <td>[-0.052680627, -0.06694909, 0.09116745, 0.0976...</td>\n",
       "    </tr>\n",
       "    <tr>\n",
       "      <th>69715</th>\n",
       "      <td>jelang olimpiade eng hian siklus haid</td>\n",
       "      <td>[jelang, olimpiade, eng, hian, siklus, haid]</td>\n",
       "      <td>[-0.062355384, -0.10950585, 0.12058587, 0.1056...</td>\n",
       "    </tr>\n",
       "  </tbody>\n",
       "</table>\n",
       "<p>12000 rows × 3 columns</p>\n",
       "</div>"
      ],
      "text/plain": [
       "                                     title_preprocessing  \\\n",
       "9063                                    harga emas turun   \n",
       "5393        pemda endap uang bank semprit tito karnavian   \n",
       "1973      saking susah cari kerja lulus rela awat lansia   \n",
       "538                         google klaim dolar jual beli   \n",
       "4399                                     iran trump irak   \n",
       "...                                                  ...   \n",
       "68442                                     jadwal england   \n",
       "68380             orang tottenham hotspur positif corona   \n",
       "68429  rahmat hidayat juara junior ikut jejak hendra ...   \n",
       "68263                       leo rolly bukti level senior   \n",
       "69715              jelang olimpiade eng hian siklus haid   \n",
       "\n",
       "                                          processed_text  \\\n",
       "9063                                [harga, emas, turun]   \n",
       "5393   [pemda, endap, uang, bank, semprit, tito, karn...   \n",
       "1973   [saking, susah, cari, kerja, lulus, rela, awat...   \n",
       "538                   [google, klaim, dolar, jual, beli]   \n",
       "4399                                 [iran, trump, irak]   \n",
       "...                                                  ...   \n",
       "68442                                  [jadwal, england]   \n",
       "68380       [orang, tottenham, hotspur, positif, corona]   \n",
       "68429  [rahmat, hidayat, juara, junior, ikut, jejak, ...   \n",
       "68263                 [leo, rolly, bukti, level, senior]   \n",
       "69715       [jelang, olimpiade, eng, hian, siklus, haid]   \n",
       "\n",
       "                                                word2vec  \n",
       "9063   [-0.044055954, -0.11079609, 0.15794404, 0.1448...  \n",
       "5393   [-0.042243313, -0.09440703, 0.12887244, 0.1228...  \n",
       "1973   [-0.058136903, -0.09416274, 0.12057579, 0.1197...  \n",
       "538    [-0.054525036, -0.085363485, 0.114021376, 0.12...  \n",
       "4399   [-0.06392362, -0.07763828, 0.10315969, 0.11796...  \n",
       "...                                                  ...  \n",
       "68442  [-0.08528567, -0.07796863, 0.083887525, 0.1009...  \n",
       "68380  [-0.19609472, 0.014075954, 0.05328831, 0.08782...  \n",
       "68429  [-0.06428827, -0.07104124, 0.09907024, 0.11011...  \n",
       "68263  [-0.052680627, -0.06694909, 0.09116745, 0.0976...  \n",
       "69715  [-0.062355384, -0.10950585, 0.12058587, 0.1056...  \n",
       "\n",
       "[12000 rows x 3 columns]"
      ]
     },
     "execution_count": 23,
     "metadata": {},
     "output_type": "execute_result"
    }
   ],
   "source": [
    "def get_average_word2vec(tokens, model):\n",
    "    vectors = [model.wv[token] for token in tokens if token in model.wv]\n",
    "    if len(vectors) == 0:\n",
    "        return np.zeros(model.vector_size)\n",
    "    return np.mean(vectors, axis=0)\n",
    "\n",
    "X_df['word2vec'] = X_df['processed_text'].apply(lambda x: get_average_word2vec(x, word2vec_model))\n",
    "X_df"
   ]
  },
  {
   "cell_type": "code",
   "execution_count": 24,
   "id": "8efc05cd-7015-467c-ba72-5cb54d7e835b",
   "metadata": {
    "colab": {
     "base_uri": "https://localhost:8080/"
    },
    "executionInfo": {
     "elapsed": 12,
     "status": "ok",
     "timestamp": 1745994809826,
     "user": {
      "displayName": "Ira Ekanda Putri",
      "userId": "16829777542153973849"
     },
     "user_tz": -420
    },
    "id": "8efc05cd-7015-467c-ba72-5cb54d7e835b",
    "outputId": "fbdc60dc-d93a-4b6d-98ce-be872c4ec1d7"
   },
   "outputs": [
    {
     "data": {
      "text/plain": [
       "(12000, 150)"
      ]
     },
     "execution_count": 24,
     "metadata": {},
     "output_type": "execute_result"
    }
   ],
   "source": [
    "X_word2vec = np.array(X_df['word2vec'].tolist())\n",
    "X_word2vec.shape"
   ]
  },
  {
   "cell_type": "code",
   "execution_count": 25,
   "id": "7fa7ddc3",
   "metadata": {},
   "outputs": [
    {
     "data": {
      "text/plain": [
       "'X_df.columns'"
      ]
     },
     "metadata": {},
     "output_type": "display_data"
    },
    {
     "data": {
      "text/plain": [
       "Index(['title_preprocessing', 'processed_text', 'word2vec'], dtype='object')"
      ]
     },
     "metadata": {},
     "output_type": "display_data"
    },
    {
     "data": {
      "text/plain": [
       "'Y'"
      ]
     },
     "metadata": {},
     "output_type": "display_data"
    },
    {
     "data": {
      "text/plain": [
       "9063     finance\n",
       "5393     finance\n",
       "1973     finance\n",
       "538      finance\n",
       "4399     finance\n",
       "          ...   \n",
       "68442      sport\n",
       "68380      sport\n",
       "68429      sport\n",
       "68263      sport\n",
       "69715      sport\n",
       "Name: category, Length: 12000, dtype: object"
      ]
     },
     "metadata": {},
     "output_type": "display_data"
    }
   ],
   "source": [
    "display(\"X_df.columns\", X_df.columns)\n",
    "display(\"Y\", y)"
   ]
  },
  {
   "cell_type": "markdown",
   "id": "391efbb8-a970-46a0-bc65-3c77a8465c8b",
   "metadata": {
    "id": "391efbb8-a970-46a0-bc65-3c77a8465c8b"
   },
   "source": [
    "## Membagi data menjadi training dan testing"
   ]
  },
  {
   "cell_type": "code",
   "execution_count": 26,
   "id": "ef143876-a313-4237-8933-633ddff6f520",
   "metadata": {
    "colab": {
     "base_uri": "https://localhost:8080/"
    },
    "executionInfo": {
     "elapsed": 49,
     "status": "ok",
     "timestamp": 1745994812264,
     "user": {
      "displayName": "Ira Ekanda Putri",
      "userId": "16829777542153973849"
     },
     "user_tz": -420
    },
    "id": "ef143876-a313-4237-8933-633ddff6f520",
    "outputId": "fb4839fd-86f1-4e23-8e70-67ce2b8ac34c"
   },
   "outputs": [
    {
     "name": "stdout",
     "output_type": "stream",
     "text": [
      "Jumlah data train : 9600\n",
      "Jumlah data test  : 2400\n"
     ]
    }
   ],
   "source": [
    "# 80% training dan 20% testing\n",
    "X_train, X_test, y_train, y_test = train_test_split(X_word2vec, y, test_size=0.2, random_state=42)\n",
    "\n",
    "print('Jumlah data train :', X_train.shape[0])\n",
    "print('Jumlah data test  :', X_test.shape[0])"
   ]
  },
  {
   "cell_type": "markdown",
   "id": "aaa99a45",
   "metadata": {},
   "source": [
    "## Naive Bayes"
   ]
  },
  {
   "cell_type": "code",
   "execution_count": 33,
   "id": "c760fae8",
   "metadata": {},
   "outputs": [],
   "source": [
    "from sklearn.naive_bayes import BernoulliNB, ComplementNB, GaussianNB"
   ]
  },
  {
   "cell_type": "markdown",
   "id": "f99b6f13",
   "metadata": {},
   "source": [
    "### Bernoulli Naive-Bayes (BNB)"
   ]
  },
  {
   "cell_type": "code",
   "execution_count": 34,
   "id": "51f84143",
   "metadata": {},
   "outputs": [],
   "source": [
    "bnbclassifier = BernoulliNB()\n",
    "bnbclassifier = bnbclassifier.fit(X_train, y_train)"
   ]
  },
  {
   "cell_type": "code",
   "execution_count": 36,
   "id": "48de2938",
   "metadata": {},
   "outputs": [
    {
     "data": {
      "text/plain": [
       "array(['finance', 'hot', 'finance', ..., 'hot', 'news', 'health'],\n",
       "      dtype='<U7')"
      ]
     },
     "execution_count": 36,
     "metadata": {},
     "output_type": "execute_result"
    }
   ],
   "source": [
    "y_pred = bnbclassifier.predict(X_test)\n",
    "y_pred"
   ]
  },
  {
   "cell_type": "code",
   "execution_count": 37,
   "id": "3388978e",
   "metadata": {},
   "outputs": [
    {
     "ename": "TypeError",
     "evalue": "'<' not supported between instances of 'int' and 'str'",
     "output_type": "error",
     "traceback": [
      "\u001b[31m---------------------------------------------------------------------------\u001b[39m",
      "\u001b[31mTypeError\u001b[39m                                 Traceback (most recent call last)",
      "\u001b[36mCell\u001b[39m\u001b[36m \u001b[39m\u001b[32mIn[37]\u001b[39m\u001b[32m, line 1\u001b[39m\n\u001b[32m----> \u001b[39m\u001b[32m1\u001b[39m Confusion_matrix = \u001b[43mconfusion_matrix\u001b[49m\u001b[43m(\u001b[49m\u001b[43my_test\u001b[49m\u001b[43m,\u001b[49m\u001b[43m \u001b[49m\u001b[43my_pred\u001b[49m\u001b[43m,\u001b[49m\u001b[43m \u001b[49m\u001b[43mlabels\u001b[49m\u001b[43m=\u001b[49m\u001b[43m[\u001b[49m\u001b[32;43m1\u001b[39;49m\u001b[43m,\u001b[49m\u001b[43m \u001b[49m\u001b[32;43m0\u001b[39;49m\u001b[43m,\u001b[49m\u001b[43m \u001b[49m\u001b[43m-\u001b[49m\u001b[32;43m1\u001b[39;49m\u001b[43m]\u001b[49m\u001b[43m)\u001b[49m\n\u001b[32m      2\u001b[39m class_label      = [\u001b[33m'\u001b[39m\u001b[33mPositif\u001b[39m\u001b[33m'\u001b[39m, \u001b[33m'\u001b[39m\u001b[33mNetral\u001b[39m\u001b[33m'\u001b[39m, \u001b[33m'\u001b[39m\u001b[33mNegatif\u001b[39m\u001b[33m'\u001b[39m, ]\n\u001b[32m      3\u001b[39m df_confusion     = pd.DataFrame(Confusion_matrix, index = class_label, columns = class_label)\n",
      "\u001b[36mFile \u001b[39m\u001b[32md:\\Kuliah\\Rifky - Full program setelah revisi\\virtualenv\\Lib\\site-packages\\sklearn\\utils\\_param_validation.py:216\u001b[39m, in \u001b[36mvalidate_params.<locals>.decorator.<locals>.wrapper\u001b[39m\u001b[34m(*args, **kwargs)\u001b[39m\n\u001b[32m    210\u001b[39m \u001b[38;5;28;01mtry\u001b[39;00m:\n\u001b[32m    211\u001b[39m     \u001b[38;5;28;01mwith\u001b[39;00m config_context(\n\u001b[32m    212\u001b[39m         skip_parameter_validation=(\n\u001b[32m    213\u001b[39m             prefer_skip_nested_validation \u001b[38;5;129;01mor\u001b[39;00m global_skip_validation\n\u001b[32m    214\u001b[39m         )\n\u001b[32m    215\u001b[39m     ):\n\u001b[32m--> \u001b[39m\u001b[32m216\u001b[39m         \u001b[38;5;28;01mreturn\u001b[39;00m \u001b[43mfunc\u001b[49m\u001b[43m(\u001b[49m\u001b[43m*\u001b[49m\u001b[43margs\u001b[49m\u001b[43m,\u001b[49m\u001b[43m \u001b[49m\u001b[43m*\u001b[49m\u001b[43m*\u001b[49m\u001b[43mkwargs\u001b[49m\u001b[43m)\u001b[49m\n\u001b[32m    217\u001b[39m \u001b[38;5;28;01mexcept\u001b[39;00m InvalidParameterError \u001b[38;5;28;01mas\u001b[39;00m e:\n\u001b[32m    218\u001b[39m     \u001b[38;5;66;03m# When the function is just a wrapper around an estimator, we allow\u001b[39;00m\n\u001b[32m    219\u001b[39m     \u001b[38;5;66;03m# the function to delegate validation to the estimator, but we replace\u001b[39;00m\n\u001b[32m    220\u001b[39m     \u001b[38;5;66;03m# the name of the estimator by the name of the function in the error\u001b[39;00m\n\u001b[32m    221\u001b[39m     \u001b[38;5;66;03m# message to avoid confusion.\u001b[39;00m\n\u001b[32m    222\u001b[39m     msg = re.sub(\n\u001b[32m    223\u001b[39m         \u001b[33mr\u001b[39m\u001b[33m\"\u001b[39m\u001b[33mparameter of \u001b[39m\u001b[33m\\\u001b[39m\u001b[33mw+ must be\u001b[39m\u001b[33m\"\u001b[39m,\n\u001b[32m    224\u001b[39m         \u001b[33mf\u001b[39m\u001b[33m\"\u001b[39m\u001b[33mparameter of \u001b[39m\u001b[38;5;132;01m{\u001b[39;00mfunc.\u001b[34m__qualname__\u001b[39m\u001b[38;5;132;01m}\u001b[39;00m\u001b[33m must be\u001b[39m\u001b[33m\"\u001b[39m,\n\u001b[32m    225\u001b[39m         \u001b[38;5;28mstr\u001b[39m(e),\n\u001b[32m    226\u001b[39m     )\n",
      "\u001b[36mFile \u001b[39m\u001b[32md:\\Kuliah\\Rifky - Full program setelah revisi\\virtualenv\\Lib\\site-packages\\sklearn\\metrics\\_classification.py:353\u001b[39m, in \u001b[36mconfusion_matrix\u001b[39m\u001b[34m(y_true, y_pred, labels, sample_weight, normalize)\u001b[39m\n\u001b[32m    351\u001b[39m     \u001b[38;5;28;01melif\u001b[39;00m y_true.size == \u001b[32m0\u001b[39m:\n\u001b[32m    352\u001b[39m         \u001b[38;5;28;01mreturn\u001b[39;00m np.zeros((n_labels, n_labels), dtype=\u001b[38;5;28mint\u001b[39m)\n\u001b[32m--> \u001b[39m\u001b[32m353\u001b[39m     \u001b[38;5;28;01melif\u001b[39;00m \u001b[38;5;28mlen\u001b[39m(\u001b[43mnp\u001b[49m\u001b[43m.\u001b[49m\u001b[43mintersect1d\u001b[49m\u001b[43m(\u001b[49m\u001b[43my_true\u001b[49m\u001b[43m,\u001b[49m\u001b[43m \u001b[49m\u001b[43mlabels\u001b[49m\u001b[43m)\u001b[49m) == \u001b[32m0\u001b[39m:\n\u001b[32m    354\u001b[39m         \u001b[38;5;28;01mraise\u001b[39;00m \u001b[38;5;167;01mValueError\u001b[39;00m(\u001b[33m\"\u001b[39m\u001b[33mAt least one label specified must be in y_true\u001b[39m\u001b[33m\"\u001b[39m)\n\u001b[32m    356\u001b[39m \u001b[38;5;28;01mif\u001b[39;00m sample_weight \u001b[38;5;129;01mis\u001b[39;00m \u001b[38;5;28;01mNone\u001b[39;00m:\n",
      "\u001b[36mFile \u001b[39m\u001b[32md:\\Kuliah\\Rifky - Full program setelah revisi\\virtualenv\\Lib\\site-packages\\numpy\\lib\\arraysetops.py:455\u001b[39m, in \u001b[36mintersect1d\u001b[39m\u001b[34m(ar1, ar2, assume_unique, return_indices)\u001b[39m\n\u001b[32m    453\u001b[39m     aux = aux[aux_sort_indices]\n\u001b[32m    454\u001b[39m \u001b[38;5;28;01melse\u001b[39;00m:\n\u001b[32m--> \u001b[39m\u001b[32m455\u001b[39m     \u001b[43maux\u001b[49m\u001b[43m.\u001b[49m\u001b[43msort\u001b[49m\u001b[43m(\u001b[49m\u001b[43m)\u001b[49m\n\u001b[32m    457\u001b[39m mask = aux[\u001b[32m1\u001b[39m:] == aux[:-\u001b[32m1\u001b[39m]\n\u001b[32m    458\u001b[39m int1d = aux[:-\u001b[32m1\u001b[39m][mask]\n",
      "\u001b[31mTypeError\u001b[39m: '<' not supported between instances of 'int' and 'str'"
     ]
    }
   ],
   "source": [
    "Confusion_matrix = confusion_matrix(y_test, y_pred, labels=[1, 0, -1])\n",
    "class_label      = ['Positif', 'Netral', 'Negatif', ]\n",
    "df_confusion     = pd.DataFrame(Confusion_matrix, index = class_label, columns = class_label)\n",
    "\n",
    "sns.heatmap(df_confusion, annot=True, fmt = \"d\", cmap=plt.cm.Blues)\n",
    "plt.title('Confusion Matrix')\n",
    "plt.xlabel('Prediction Label')\n",
    "plt.ylabel('Actual Label')\n",
    "plt.show()"
   ]
  },
  {
   "cell_type": "code",
   "execution_count": 38,
   "id": "1bdca733",
   "metadata": {},
   "outputs": [
    {
     "name": "stdout",
     "output_type": "stream",
     "text": [
      "Accuracy   = 39.67 %\n",
      "Precission = 40.2 %\n",
      "Recall     = 39.67 %\n",
      "F1-Score   = 36.01 %\n"
     ]
    }
   ],
   "source": [
    "_accuracy   = round(accuracy_score(y_test, y_pred)*100, 2)\n",
    "_precission = round(precision_score(y_test, y_pred, average='weighted')*100, 2)\n",
    "_recall     = round(recall_score(y_test, y_pred, average='weighted')*100, 2)\n",
    "_fscore     = round(f1_score(y_test, y_pred, average='weighted')*100, 2)\n",
    "\n",
    "print('Accuracy   =', _accuracy,'%')\n",
    "print('Precission =', _precission,'%')\n",
    "print('Recall     =', _recall,'%')\n",
    "print('F1-Score   =', _fscore,'%')"
   ]
  },
  {
   "cell_type": "markdown",
   "id": "ecf39313",
   "metadata": {},
   "source": [
    "### Gausian Naive-Bayes (GNB)"
   ]
  },
  {
   "cell_type": "code",
   "execution_count": 39,
   "id": "08b32e62",
   "metadata": {},
   "outputs": [],
   "source": [
    "gnbclassifier = GaussianNB()\n",
    "gnbclassifier = gnbclassifier.fit(X_train, y_train)"
   ]
  },
  {
   "cell_type": "code",
   "execution_count": 40,
   "id": "ec70ab26",
   "metadata": {},
   "outputs": [
    {
     "data": {
      "text/plain": [
       "array(['finance', 'finance', 'finance', ..., 'hot', 'hot', 'health'],\n",
       "      dtype='<U7')"
      ]
     },
     "execution_count": 40,
     "metadata": {},
     "output_type": "execute_result"
    }
   ],
   "source": [
    "y_pred = gnbclassifier.predict(X_test)\n",
    "y_pred"
   ]
  },
  {
   "cell_type": "code",
   "execution_count": 41,
   "id": "86063e3c",
   "metadata": {},
   "outputs": [
    {
     "ename": "TypeError",
     "evalue": "'<' not supported between instances of 'int' and 'str'",
     "output_type": "error",
     "traceback": [
      "\u001b[31m---------------------------------------------------------------------------\u001b[39m",
      "\u001b[31mTypeError\u001b[39m                                 Traceback (most recent call last)",
      "\u001b[36mCell\u001b[39m\u001b[36m \u001b[39m\u001b[32mIn[41]\u001b[39m\u001b[32m, line 1\u001b[39m\n\u001b[32m----> \u001b[39m\u001b[32m1\u001b[39m Confusion_matrix = \u001b[43mconfusion_matrix\u001b[49m\u001b[43m(\u001b[49m\u001b[43my_test\u001b[49m\u001b[43m,\u001b[49m\u001b[43m \u001b[49m\u001b[43my_pred\u001b[49m\u001b[43m,\u001b[49m\u001b[43m \u001b[49m\u001b[43mlabels\u001b[49m\u001b[43m=\u001b[49m\u001b[43m[\u001b[49m\u001b[32;43m1\u001b[39;49m\u001b[43m,\u001b[49m\u001b[43m \u001b[49m\u001b[32;43m0\u001b[39;49m\u001b[43m,\u001b[49m\u001b[43m \u001b[49m\u001b[43m-\u001b[49m\u001b[32;43m1\u001b[39;49m\u001b[43m]\u001b[49m\u001b[43m)\u001b[49m\n\u001b[32m      2\u001b[39m class_label      = [\u001b[33m'\u001b[39m\u001b[33mPositif\u001b[39m\u001b[33m'\u001b[39m, \u001b[33m'\u001b[39m\u001b[33mNetral\u001b[39m\u001b[33m'\u001b[39m, \u001b[33m'\u001b[39m\u001b[33mNegatif\u001b[39m\u001b[33m'\u001b[39m, ]\n\u001b[32m      3\u001b[39m df_confusion     = pd.DataFrame(Confusion_matrix, index = class_label, columns = class_label)\n",
      "\u001b[36mFile \u001b[39m\u001b[32md:\\Kuliah\\Rifky - Full program setelah revisi\\virtualenv\\Lib\\site-packages\\sklearn\\utils\\_param_validation.py:216\u001b[39m, in \u001b[36mvalidate_params.<locals>.decorator.<locals>.wrapper\u001b[39m\u001b[34m(*args, **kwargs)\u001b[39m\n\u001b[32m    210\u001b[39m \u001b[38;5;28;01mtry\u001b[39;00m:\n\u001b[32m    211\u001b[39m     \u001b[38;5;28;01mwith\u001b[39;00m config_context(\n\u001b[32m    212\u001b[39m         skip_parameter_validation=(\n\u001b[32m    213\u001b[39m             prefer_skip_nested_validation \u001b[38;5;129;01mor\u001b[39;00m global_skip_validation\n\u001b[32m    214\u001b[39m         )\n\u001b[32m    215\u001b[39m     ):\n\u001b[32m--> \u001b[39m\u001b[32m216\u001b[39m         \u001b[38;5;28;01mreturn\u001b[39;00m \u001b[43mfunc\u001b[49m\u001b[43m(\u001b[49m\u001b[43m*\u001b[49m\u001b[43margs\u001b[49m\u001b[43m,\u001b[49m\u001b[43m \u001b[49m\u001b[43m*\u001b[49m\u001b[43m*\u001b[49m\u001b[43mkwargs\u001b[49m\u001b[43m)\u001b[49m\n\u001b[32m    217\u001b[39m \u001b[38;5;28;01mexcept\u001b[39;00m InvalidParameterError \u001b[38;5;28;01mas\u001b[39;00m e:\n\u001b[32m    218\u001b[39m     \u001b[38;5;66;03m# When the function is just a wrapper around an estimator, we allow\u001b[39;00m\n\u001b[32m    219\u001b[39m     \u001b[38;5;66;03m# the function to delegate validation to the estimator, but we replace\u001b[39;00m\n\u001b[32m    220\u001b[39m     \u001b[38;5;66;03m# the name of the estimator by the name of the function in the error\u001b[39;00m\n\u001b[32m    221\u001b[39m     \u001b[38;5;66;03m# message to avoid confusion.\u001b[39;00m\n\u001b[32m    222\u001b[39m     msg = re.sub(\n\u001b[32m    223\u001b[39m         \u001b[33mr\u001b[39m\u001b[33m\"\u001b[39m\u001b[33mparameter of \u001b[39m\u001b[33m\\\u001b[39m\u001b[33mw+ must be\u001b[39m\u001b[33m\"\u001b[39m,\n\u001b[32m    224\u001b[39m         \u001b[33mf\u001b[39m\u001b[33m\"\u001b[39m\u001b[33mparameter of \u001b[39m\u001b[38;5;132;01m{\u001b[39;00mfunc.\u001b[34m__qualname__\u001b[39m\u001b[38;5;132;01m}\u001b[39;00m\u001b[33m must be\u001b[39m\u001b[33m\"\u001b[39m,\n\u001b[32m    225\u001b[39m         \u001b[38;5;28mstr\u001b[39m(e),\n\u001b[32m    226\u001b[39m     )\n",
      "\u001b[36mFile \u001b[39m\u001b[32md:\\Kuliah\\Rifky - Full program setelah revisi\\virtualenv\\Lib\\site-packages\\sklearn\\metrics\\_classification.py:353\u001b[39m, in \u001b[36mconfusion_matrix\u001b[39m\u001b[34m(y_true, y_pred, labels, sample_weight, normalize)\u001b[39m\n\u001b[32m    351\u001b[39m     \u001b[38;5;28;01melif\u001b[39;00m y_true.size == \u001b[32m0\u001b[39m:\n\u001b[32m    352\u001b[39m         \u001b[38;5;28;01mreturn\u001b[39;00m np.zeros((n_labels, n_labels), dtype=\u001b[38;5;28mint\u001b[39m)\n\u001b[32m--> \u001b[39m\u001b[32m353\u001b[39m     \u001b[38;5;28;01melif\u001b[39;00m \u001b[38;5;28mlen\u001b[39m(\u001b[43mnp\u001b[49m\u001b[43m.\u001b[49m\u001b[43mintersect1d\u001b[49m\u001b[43m(\u001b[49m\u001b[43my_true\u001b[49m\u001b[43m,\u001b[49m\u001b[43m \u001b[49m\u001b[43mlabels\u001b[49m\u001b[43m)\u001b[49m) == \u001b[32m0\u001b[39m:\n\u001b[32m    354\u001b[39m         \u001b[38;5;28;01mraise\u001b[39;00m \u001b[38;5;167;01mValueError\u001b[39;00m(\u001b[33m\"\u001b[39m\u001b[33mAt least one label specified must be in y_true\u001b[39m\u001b[33m\"\u001b[39m)\n\u001b[32m    356\u001b[39m \u001b[38;5;28;01mif\u001b[39;00m sample_weight \u001b[38;5;129;01mis\u001b[39;00m \u001b[38;5;28;01mNone\u001b[39;00m:\n",
      "\u001b[36mFile \u001b[39m\u001b[32md:\\Kuliah\\Rifky - Full program setelah revisi\\virtualenv\\Lib\\site-packages\\numpy\\lib\\arraysetops.py:455\u001b[39m, in \u001b[36mintersect1d\u001b[39m\u001b[34m(ar1, ar2, assume_unique, return_indices)\u001b[39m\n\u001b[32m    453\u001b[39m     aux = aux[aux_sort_indices]\n\u001b[32m    454\u001b[39m \u001b[38;5;28;01melse\u001b[39;00m:\n\u001b[32m--> \u001b[39m\u001b[32m455\u001b[39m     \u001b[43maux\u001b[49m\u001b[43m.\u001b[49m\u001b[43msort\u001b[49m\u001b[43m(\u001b[49m\u001b[43m)\u001b[49m\n\u001b[32m    457\u001b[39m mask = aux[\u001b[32m1\u001b[39m:] == aux[:-\u001b[32m1\u001b[39m]\n\u001b[32m    458\u001b[39m int1d = aux[:-\u001b[32m1\u001b[39m][mask]\n",
      "\u001b[31mTypeError\u001b[39m: '<' not supported between instances of 'int' and 'str'"
     ]
    }
   ],
   "source": [
    "Confusion_matrix = confusion_matrix(y_test, y_pred, labels=[1, 0, -1])\n",
    "class_label      = ['Positif', 'Netral', 'Negatif', ]\n",
    "df_confusion     = pd.DataFrame(Confusion_matrix, index = class_label, columns = class_label)\n",
    "\n",
    "sns.heatmap(df_confusion, annot=True, fmt = \"d\", cmap=plt.cm.Blues)\n",
    "plt.title('Confusion Matrix')\n",
    "plt.xlabel('Prediction Label')\n",
    "plt.ylabel('Actual Label')\n",
    "plt.show()"
   ]
  },
  {
   "cell_type": "code",
   "execution_count": 42,
   "id": "3ad1e05a",
   "metadata": {},
   "outputs": [
    {
     "name": "stdout",
     "output_type": "stream",
     "text": [
      "Accuracy   = 38.46 %\n",
      "Precission = 44.65 %\n",
      "Recall     = 38.46 %\n",
      "F1-Score   = 35.17 %\n"
     ]
    }
   ],
   "source": [
    "_accuracy   = round(accuracy_score(y_test, y_pred)*100, 2)\n",
    "_precission = round(precision_score(y_test, y_pred, average='weighted')*100, 2)\n",
    "_recall     = round(recall_score(y_test, y_pred, average='weighted')*100, 2)\n",
    "_fscore     = round(f1_score(y_test, y_pred, average='weighted')*100, 2)\n",
    "\n",
    "print('Accuracy   =', _accuracy,'%')\n",
    "print('Precission =', _precission,'%')\n",
    "print('Recall     =', _recall,'%')\n",
    "print('F1-Score   =', _fscore,'%')"
   ]
  },
  {
   "cell_type": "markdown",
   "id": "c4fde59c-349c-4ab6-a693-aaf5b2e67c20",
   "metadata": {
    "id": "c4fde59c-349c-4ab6-a693-aaf5b2e67c20"
   },
   "source": [
    "## Support Vector Machine (SVM)"
   ]
  },
  {
   "cell_type": "code",
   "execution_count": 43,
   "id": "4e177bf2-a483-4bfa-a2d6-88256ede07cf",
   "metadata": {
    "colab": {
     "base_uri": "https://localhost:8080/",
     "height": 80
    },
    "executionInfo": {
     "elapsed": 6194,
     "status": "ok",
     "timestamp": 1745994819879,
     "user": {
      "displayName": "Ira Ekanda Putri",
      "userId": "16829777542153973849"
     },
     "user_tz": -420
    },
    "id": "4e177bf2-a483-4bfa-a2d6-88256ede07cf",
    "outputId": "be9ce069-3bc3-4b2a-e21b-27b7ebff78d7"
   },
   "outputs": [
    {
     "data": {
      "text/html": [
       "<style>#sk-container-id-2 {\n",
       "  /* Definition of color scheme common for light and dark mode */\n",
       "  --sklearn-color-text: #000;\n",
       "  --sklearn-color-text-muted: #666;\n",
       "  --sklearn-color-line: gray;\n",
       "  /* Definition of color scheme for unfitted estimators */\n",
       "  --sklearn-color-unfitted-level-0: #fff5e6;\n",
       "  --sklearn-color-unfitted-level-1: #f6e4d2;\n",
       "  --sklearn-color-unfitted-level-2: #ffe0b3;\n",
       "  --sklearn-color-unfitted-level-3: chocolate;\n",
       "  /* Definition of color scheme for fitted estimators */\n",
       "  --sklearn-color-fitted-level-0: #f0f8ff;\n",
       "  --sklearn-color-fitted-level-1: #d4ebff;\n",
       "  --sklearn-color-fitted-level-2: #b3dbfd;\n",
       "  --sklearn-color-fitted-level-3: cornflowerblue;\n",
       "\n",
       "  /* Specific color for light theme */\n",
       "  --sklearn-color-text-on-default-background: var(--sg-text-color, var(--theme-code-foreground, var(--jp-content-font-color1, black)));\n",
       "  --sklearn-color-background: var(--sg-background-color, var(--theme-background, var(--jp-layout-color0, white)));\n",
       "  --sklearn-color-border-box: var(--sg-text-color, var(--theme-code-foreground, var(--jp-content-font-color1, black)));\n",
       "  --sklearn-color-icon: #696969;\n",
       "\n",
       "  @media (prefers-color-scheme: dark) {\n",
       "    /* Redefinition of color scheme for dark theme */\n",
       "    --sklearn-color-text-on-default-background: var(--sg-text-color, var(--theme-code-foreground, var(--jp-content-font-color1, white)));\n",
       "    --sklearn-color-background: var(--sg-background-color, var(--theme-background, var(--jp-layout-color0, #111)));\n",
       "    --sklearn-color-border-box: var(--sg-text-color, var(--theme-code-foreground, var(--jp-content-font-color1, white)));\n",
       "    --sklearn-color-icon: #878787;\n",
       "  }\n",
       "}\n",
       "\n",
       "#sk-container-id-2 {\n",
       "  color: var(--sklearn-color-text);\n",
       "}\n",
       "\n",
       "#sk-container-id-2 pre {\n",
       "  padding: 0;\n",
       "}\n",
       "\n",
       "#sk-container-id-2 input.sk-hidden--visually {\n",
       "  border: 0;\n",
       "  clip: rect(1px 1px 1px 1px);\n",
       "  clip: rect(1px, 1px, 1px, 1px);\n",
       "  height: 1px;\n",
       "  margin: -1px;\n",
       "  overflow: hidden;\n",
       "  padding: 0;\n",
       "  position: absolute;\n",
       "  width: 1px;\n",
       "}\n",
       "\n",
       "#sk-container-id-2 div.sk-dashed-wrapped {\n",
       "  border: 1px dashed var(--sklearn-color-line);\n",
       "  margin: 0 0.4em 0.5em 0.4em;\n",
       "  box-sizing: border-box;\n",
       "  padding-bottom: 0.4em;\n",
       "  background-color: var(--sklearn-color-background);\n",
       "}\n",
       "\n",
       "#sk-container-id-2 div.sk-container {\n",
       "  /* jupyter's `normalize.less` sets `[hidden] { display: none; }`\n",
       "     but bootstrap.min.css set `[hidden] { display: none !important; }`\n",
       "     so we also need the `!important` here to be able to override the\n",
       "     default hidden behavior on the sphinx rendered scikit-learn.org.\n",
       "     See: https://github.com/scikit-learn/scikit-learn/issues/21755 */\n",
       "  display: inline-block !important;\n",
       "  position: relative;\n",
       "}\n",
       "\n",
       "#sk-container-id-2 div.sk-text-repr-fallback {\n",
       "  display: none;\n",
       "}\n",
       "\n",
       "div.sk-parallel-item,\n",
       "div.sk-serial,\n",
       "div.sk-item {\n",
       "  /* draw centered vertical line to link estimators */\n",
       "  background-image: linear-gradient(var(--sklearn-color-text-on-default-background), var(--sklearn-color-text-on-default-background));\n",
       "  background-size: 2px 100%;\n",
       "  background-repeat: no-repeat;\n",
       "  background-position: center center;\n",
       "}\n",
       "\n",
       "/* Parallel-specific style estimator block */\n",
       "\n",
       "#sk-container-id-2 div.sk-parallel-item::after {\n",
       "  content: \"\";\n",
       "  width: 100%;\n",
       "  border-bottom: 2px solid var(--sklearn-color-text-on-default-background);\n",
       "  flex-grow: 1;\n",
       "}\n",
       "\n",
       "#sk-container-id-2 div.sk-parallel {\n",
       "  display: flex;\n",
       "  align-items: stretch;\n",
       "  justify-content: center;\n",
       "  background-color: var(--sklearn-color-background);\n",
       "  position: relative;\n",
       "}\n",
       "\n",
       "#sk-container-id-2 div.sk-parallel-item {\n",
       "  display: flex;\n",
       "  flex-direction: column;\n",
       "}\n",
       "\n",
       "#sk-container-id-2 div.sk-parallel-item:first-child::after {\n",
       "  align-self: flex-end;\n",
       "  width: 50%;\n",
       "}\n",
       "\n",
       "#sk-container-id-2 div.sk-parallel-item:last-child::after {\n",
       "  align-self: flex-start;\n",
       "  width: 50%;\n",
       "}\n",
       "\n",
       "#sk-container-id-2 div.sk-parallel-item:only-child::after {\n",
       "  width: 0;\n",
       "}\n",
       "\n",
       "/* Serial-specific style estimator block */\n",
       "\n",
       "#sk-container-id-2 div.sk-serial {\n",
       "  display: flex;\n",
       "  flex-direction: column;\n",
       "  align-items: center;\n",
       "  background-color: var(--sklearn-color-background);\n",
       "  padding-right: 1em;\n",
       "  padding-left: 1em;\n",
       "}\n",
       "\n",
       "\n",
       "/* Toggleable style: style used for estimator/Pipeline/ColumnTransformer box that is\n",
       "clickable and can be expanded/collapsed.\n",
       "- Pipeline and ColumnTransformer use this feature and define the default style\n",
       "- Estimators will overwrite some part of the style using the `sk-estimator` class\n",
       "*/\n",
       "\n",
       "/* Pipeline and ColumnTransformer style (default) */\n",
       "\n",
       "#sk-container-id-2 div.sk-toggleable {\n",
       "  /* Default theme specific background. It is overwritten whether we have a\n",
       "  specific estimator or a Pipeline/ColumnTransformer */\n",
       "  background-color: var(--sklearn-color-background);\n",
       "}\n",
       "\n",
       "/* Toggleable label */\n",
       "#sk-container-id-2 label.sk-toggleable__label {\n",
       "  cursor: pointer;\n",
       "  display: flex;\n",
       "  width: 100%;\n",
       "  margin-bottom: 0;\n",
       "  padding: 0.5em;\n",
       "  box-sizing: border-box;\n",
       "  text-align: center;\n",
       "  align-items: start;\n",
       "  justify-content: space-between;\n",
       "  gap: 0.5em;\n",
       "}\n",
       "\n",
       "#sk-container-id-2 label.sk-toggleable__label .caption {\n",
       "  font-size: 0.6rem;\n",
       "  font-weight: lighter;\n",
       "  color: var(--sklearn-color-text-muted);\n",
       "}\n",
       "\n",
       "#sk-container-id-2 label.sk-toggleable__label-arrow:before {\n",
       "  /* Arrow on the left of the label */\n",
       "  content: \"▸\";\n",
       "  float: left;\n",
       "  margin-right: 0.25em;\n",
       "  color: var(--sklearn-color-icon);\n",
       "}\n",
       "\n",
       "#sk-container-id-2 label.sk-toggleable__label-arrow:hover:before {\n",
       "  color: var(--sklearn-color-text);\n",
       "}\n",
       "\n",
       "/* Toggleable content - dropdown */\n",
       "\n",
       "#sk-container-id-2 div.sk-toggleable__content {\n",
       "  max-height: 0;\n",
       "  max-width: 0;\n",
       "  overflow: hidden;\n",
       "  text-align: left;\n",
       "  /* unfitted */\n",
       "  background-color: var(--sklearn-color-unfitted-level-0);\n",
       "}\n",
       "\n",
       "#sk-container-id-2 div.sk-toggleable__content.fitted {\n",
       "  /* fitted */\n",
       "  background-color: var(--sklearn-color-fitted-level-0);\n",
       "}\n",
       "\n",
       "#sk-container-id-2 div.sk-toggleable__content pre {\n",
       "  margin: 0.2em;\n",
       "  border-radius: 0.25em;\n",
       "  color: var(--sklearn-color-text);\n",
       "  /* unfitted */\n",
       "  background-color: var(--sklearn-color-unfitted-level-0);\n",
       "}\n",
       "\n",
       "#sk-container-id-2 div.sk-toggleable__content.fitted pre {\n",
       "  /* unfitted */\n",
       "  background-color: var(--sklearn-color-fitted-level-0);\n",
       "}\n",
       "\n",
       "#sk-container-id-2 input.sk-toggleable__control:checked~div.sk-toggleable__content {\n",
       "  /* Expand drop-down */\n",
       "  max-height: 200px;\n",
       "  max-width: 100%;\n",
       "  overflow: auto;\n",
       "}\n",
       "\n",
       "#sk-container-id-2 input.sk-toggleable__control:checked~label.sk-toggleable__label-arrow:before {\n",
       "  content: \"▾\";\n",
       "}\n",
       "\n",
       "/* Pipeline/ColumnTransformer-specific style */\n",
       "\n",
       "#sk-container-id-2 div.sk-label input.sk-toggleable__control:checked~label.sk-toggleable__label {\n",
       "  color: var(--sklearn-color-text);\n",
       "  background-color: var(--sklearn-color-unfitted-level-2);\n",
       "}\n",
       "\n",
       "#sk-container-id-2 div.sk-label.fitted input.sk-toggleable__control:checked~label.sk-toggleable__label {\n",
       "  background-color: var(--sklearn-color-fitted-level-2);\n",
       "}\n",
       "\n",
       "/* Estimator-specific style */\n",
       "\n",
       "/* Colorize estimator box */\n",
       "#sk-container-id-2 div.sk-estimator input.sk-toggleable__control:checked~label.sk-toggleable__label {\n",
       "  /* unfitted */\n",
       "  background-color: var(--sklearn-color-unfitted-level-2);\n",
       "}\n",
       "\n",
       "#sk-container-id-2 div.sk-estimator.fitted input.sk-toggleable__control:checked~label.sk-toggleable__label {\n",
       "  /* fitted */\n",
       "  background-color: var(--sklearn-color-fitted-level-2);\n",
       "}\n",
       "\n",
       "#sk-container-id-2 div.sk-label label.sk-toggleable__label,\n",
       "#sk-container-id-2 div.sk-label label {\n",
       "  /* The background is the default theme color */\n",
       "  color: var(--sklearn-color-text-on-default-background);\n",
       "}\n",
       "\n",
       "/* On hover, darken the color of the background */\n",
       "#sk-container-id-2 div.sk-label:hover label.sk-toggleable__label {\n",
       "  color: var(--sklearn-color-text);\n",
       "  background-color: var(--sklearn-color-unfitted-level-2);\n",
       "}\n",
       "\n",
       "/* Label box, darken color on hover, fitted */\n",
       "#sk-container-id-2 div.sk-label.fitted:hover label.sk-toggleable__label.fitted {\n",
       "  color: var(--sklearn-color-text);\n",
       "  background-color: var(--sklearn-color-fitted-level-2);\n",
       "}\n",
       "\n",
       "/* Estimator label */\n",
       "\n",
       "#sk-container-id-2 div.sk-label label {\n",
       "  font-family: monospace;\n",
       "  font-weight: bold;\n",
       "  display: inline-block;\n",
       "  line-height: 1.2em;\n",
       "}\n",
       "\n",
       "#sk-container-id-2 div.sk-label-container {\n",
       "  text-align: center;\n",
       "}\n",
       "\n",
       "/* Estimator-specific */\n",
       "#sk-container-id-2 div.sk-estimator {\n",
       "  font-family: monospace;\n",
       "  border: 1px dotted var(--sklearn-color-border-box);\n",
       "  border-radius: 0.25em;\n",
       "  box-sizing: border-box;\n",
       "  margin-bottom: 0.5em;\n",
       "  /* unfitted */\n",
       "  background-color: var(--sklearn-color-unfitted-level-0);\n",
       "}\n",
       "\n",
       "#sk-container-id-2 div.sk-estimator.fitted {\n",
       "  /* fitted */\n",
       "  background-color: var(--sklearn-color-fitted-level-0);\n",
       "}\n",
       "\n",
       "/* on hover */\n",
       "#sk-container-id-2 div.sk-estimator:hover {\n",
       "  /* unfitted */\n",
       "  background-color: var(--sklearn-color-unfitted-level-2);\n",
       "}\n",
       "\n",
       "#sk-container-id-2 div.sk-estimator.fitted:hover {\n",
       "  /* fitted */\n",
       "  background-color: var(--sklearn-color-fitted-level-2);\n",
       "}\n",
       "\n",
       "/* Specification for estimator info (e.g. \"i\" and \"?\") */\n",
       "\n",
       "/* Common style for \"i\" and \"?\" */\n",
       "\n",
       ".sk-estimator-doc-link,\n",
       "a:link.sk-estimator-doc-link,\n",
       "a:visited.sk-estimator-doc-link {\n",
       "  float: right;\n",
       "  font-size: smaller;\n",
       "  line-height: 1em;\n",
       "  font-family: monospace;\n",
       "  background-color: var(--sklearn-color-background);\n",
       "  border-radius: 1em;\n",
       "  height: 1em;\n",
       "  width: 1em;\n",
       "  text-decoration: none !important;\n",
       "  margin-left: 0.5em;\n",
       "  text-align: center;\n",
       "  /* unfitted */\n",
       "  border: var(--sklearn-color-unfitted-level-1) 1pt solid;\n",
       "  color: var(--sklearn-color-unfitted-level-1);\n",
       "}\n",
       "\n",
       ".sk-estimator-doc-link.fitted,\n",
       "a:link.sk-estimator-doc-link.fitted,\n",
       "a:visited.sk-estimator-doc-link.fitted {\n",
       "  /* fitted */\n",
       "  border: var(--sklearn-color-fitted-level-1) 1pt solid;\n",
       "  color: var(--sklearn-color-fitted-level-1);\n",
       "}\n",
       "\n",
       "/* On hover */\n",
       "div.sk-estimator:hover .sk-estimator-doc-link:hover,\n",
       ".sk-estimator-doc-link:hover,\n",
       "div.sk-label-container:hover .sk-estimator-doc-link:hover,\n",
       ".sk-estimator-doc-link:hover {\n",
       "  /* unfitted */\n",
       "  background-color: var(--sklearn-color-unfitted-level-3);\n",
       "  color: var(--sklearn-color-background);\n",
       "  text-decoration: none;\n",
       "}\n",
       "\n",
       "div.sk-estimator.fitted:hover .sk-estimator-doc-link.fitted:hover,\n",
       ".sk-estimator-doc-link.fitted:hover,\n",
       "div.sk-label-container:hover .sk-estimator-doc-link.fitted:hover,\n",
       ".sk-estimator-doc-link.fitted:hover {\n",
       "  /* fitted */\n",
       "  background-color: var(--sklearn-color-fitted-level-3);\n",
       "  color: var(--sklearn-color-background);\n",
       "  text-decoration: none;\n",
       "}\n",
       "\n",
       "/* Span, style for the box shown on hovering the info icon */\n",
       ".sk-estimator-doc-link span {\n",
       "  display: none;\n",
       "  z-index: 9999;\n",
       "  position: relative;\n",
       "  font-weight: normal;\n",
       "  right: .2ex;\n",
       "  padding: .5ex;\n",
       "  margin: .5ex;\n",
       "  width: min-content;\n",
       "  min-width: 20ex;\n",
       "  max-width: 50ex;\n",
       "  color: var(--sklearn-color-text);\n",
       "  box-shadow: 2pt 2pt 4pt #999;\n",
       "  /* unfitted */\n",
       "  background: var(--sklearn-color-unfitted-level-0);\n",
       "  border: .5pt solid var(--sklearn-color-unfitted-level-3);\n",
       "}\n",
       "\n",
       ".sk-estimator-doc-link.fitted span {\n",
       "  /* fitted */\n",
       "  background: var(--sklearn-color-fitted-level-0);\n",
       "  border: var(--sklearn-color-fitted-level-3);\n",
       "}\n",
       "\n",
       ".sk-estimator-doc-link:hover span {\n",
       "  display: block;\n",
       "}\n",
       "\n",
       "/* \"?\"-specific style due to the `<a>` HTML tag */\n",
       "\n",
       "#sk-container-id-2 a.estimator_doc_link {\n",
       "  float: right;\n",
       "  font-size: 1rem;\n",
       "  line-height: 1em;\n",
       "  font-family: monospace;\n",
       "  background-color: var(--sklearn-color-background);\n",
       "  border-radius: 1rem;\n",
       "  height: 1rem;\n",
       "  width: 1rem;\n",
       "  text-decoration: none;\n",
       "  /* unfitted */\n",
       "  color: var(--sklearn-color-unfitted-level-1);\n",
       "  border: var(--sklearn-color-unfitted-level-1) 1pt solid;\n",
       "}\n",
       "\n",
       "#sk-container-id-2 a.estimator_doc_link.fitted {\n",
       "  /* fitted */\n",
       "  border: var(--sklearn-color-fitted-level-1) 1pt solid;\n",
       "  color: var(--sklearn-color-fitted-level-1);\n",
       "}\n",
       "\n",
       "/* On hover */\n",
       "#sk-container-id-2 a.estimator_doc_link:hover {\n",
       "  /* unfitted */\n",
       "  background-color: var(--sklearn-color-unfitted-level-3);\n",
       "  color: var(--sklearn-color-background);\n",
       "  text-decoration: none;\n",
       "}\n",
       "\n",
       "#sk-container-id-2 a.estimator_doc_link.fitted:hover {\n",
       "  /* fitted */\n",
       "  background-color: var(--sklearn-color-fitted-level-3);\n",
       "}\n",
       "</style><div id=\"sk-container-id-2\" class=\"sk-top-container\"><div class=\"sk-text-repr-fallback\"><pre>SVC(C=100, gamma=10, kernel=&#x27;linear&#x27;)</pre><b>In a Jupyter environment, please rerun this cell to show the HTML representation or trust the notebook. <br />On GitHub, the HTML representation is unable to render, please try loading this page with nbviewer.org.</b></div><div class=\"sk-container\" hidden><div class=\"sk-item\"><div class=\"sk-estimator fitted sk-toggleable\"><input class=\"sk-toggleable__control sk-hidden--visually\" id=\"sk-estimator-id-2\" type=\"checkbox\" checked><label for=\"sk-estimator-id-2\" class=\"sk-toggleable__label fitted sk-toggleable__label-arrow\"><div><div>SVC</div></div><div><a class=\"sk-estimator-doc-link fitted\" rel=\"noreferrer\" target=\"_blank\" href=\"https://scikit-learn.org/1.6/modules/generated/sklearn.svm.SVC.html\">?<span>Documentation for SVC</span></a><span class=\"sk-estimator-doc-link fitted\">i<span>Fitted</span></span></div></label><div class=\"sk-toggleable__content fitted\"><pre>SVC(C=100, gamma=10, kernel=&#x27;linear&#x27;)</pre></div> </div></div></div></div>"
      ],
      "text/plain": [
       "SVC(C=100, gamma=10, kernel='linear')"
      ]
     },
     "execution_count": 43,
     "metadata": {},
     "output_type": "execute_result"
    }
   ],
   "source": [
    "svclassifier = SVC(kernel='linear', C=100, gamma=10)\n",
    "svclassifier.fit(X_train, y_train)"
   ]
  },
  {
   "cell_type": "code",
   "execution_count": 44,
   "id": "1f71d4c0-5581-4293-927a-7851d5f0236f",
   "metadata": {
    "colab": {
     "base_uri": "https://localhost:8080/"
    },
    "executionInfo": {
     "elapsed": 518,
     "status": "ok",
     "timestamp": 1745994820396,
     "user": {
      "displayName": "Ira Ekanda Putri",
      "userId": "16829777542153973849"
     },
     "user_tz": -420
    },
    "id": "1f71d4c0-5581-4293-927a-7851d5f0236f",
    "outputId": "926f6fd6-9648-4829-9e6e-8af47304eba4"
   },
   "outputs": [
    {
     "data": {
      "text/plain": [
       "array(['finance', 'hot', 'finance', ..., 'finance', 'health', 'health'],\n",
       "      dtype=object)"
      ]
     },
     "execution_count": 44,
     "metadata": {},
     "output_type": "execute_result"
    }
   ],
   "source": [
    "y_pred = svclassifier.predict(X_test)\n",
    "y_pred"
   ]
  },
  {
   "cell_type": "code",
   "execution_count": null,
   "id": "eb853a13-4ad5-49d5-8639-96c2f94bb105",
   "metadata": {
    "colab": {
     "base_uri": "https://localhost:8080/",
     "height": 472
    },
    "executionInfo": {
     "elapsed": 258,
     "status": "ok",
     "timestamp": 1745994844963,
     "user": {
      "displayName": "Ira Ekanda Putri",
      "userId": "16829777542153973849"
     },
     "user_tz": -420
    },
    "id": "eb853a13-4ad5-49d5-8639-96c2f94bb105",
    "outputId": "95798bb6-924d-4e6f-9d40-88d58514f58a"
   },
   "outputs": [
    {
     "ename": "ValueError",
     "evalue": "At least one label specified must be in y_true",
     "output_type": "error",
     "traceback": [
      "\u001b[31m---------------------------------------------------------------------------\u001b[39m",
      "\u001b[31mValueError\u001b[39m                                Traceback (most recent call last)",
      "\u001b[36mCell\u001b[39m\u001b[36m \u001b[39m\u001b[32mIn[45]\u001b[39m\u001b[32m, line 1\u001b[39m\n\u001b[32m----> \u001b[39m\u001b[32m1\u001b[39m Confusion_matrix = \u001b[43mconfusion_matrix\u001b[49m\u001b[43m(\u001b[49m\u001b[43my_test\u001b[49m\u001b[43m,\u001b[49m\u001b[43m \u001b[49m\u001b[43my_pred\u001b[49m\u001b[43m,\u001b[49m\u001b[43m \u001b[49m\u001b[43mlabels\u001b[49m\u001b[43m=\u001b[49m\u001b[43m[\u001b[49m\u001b[33;43m\"\u001b[39;49m\u001b[33;43mnews, sport, hot, finance, health\u001b[39;49m\u001b[33;43m\"\u001b[39;49m\u001b[43m]\u001b[49m\u001b[43m)\u001b[49m\n\u001b[32m      2\u001b[39m class_label      = [\u001b[33m'\u001b[39m\u001b[33mPositif\u001b[39m\u001b[33m'\u001b[39m, \u001b[33m'\u001b[39m\u001b[33mNetral\u001b[39m\u001b[33m'\u001b[39m, \u001b[33m'\u001b[39m\u001b[33mNegatif\u001b[39m\u001b[33m'\u001b[39m, ]\n\u001b[32m      3\u001b[39m df_confusion     = pd.DataFrame(Confusion_matrix, index = class_label, columns = class_label)\n",
      "\u001b[36mFile \u001b[39m\u001b[32md:\\Kuliah\\Rifky - Full program setelah revisi\\virtualenv\\Lib\\site-packages\\sklearn\\utils\\_param_validation.py:216\u001b[39m, in \u001b[36mvalidate_params.<locals>.decorator.<locals>.wrapper\u001b[39m\u001b[34m(*args, **kwargs)\u001b[39m\n\u001b[32m    210\u001b[39m \u001b[38;5;28;01mtry\u001b[39;00m:\n\u001b[32m    211\u001b[39m     \u001b[38;5;28;01mwith\u001b[39;00m config_context(\n\u001b[32m    212\u001b[39m         skip_parameter_validation=(\n\u001b[32m    213\u001b[39m             prefer_skip_nested_validation \u001b[38;5;129;01mor\u001b[39;00m global_skip_validation\n\u001b[32m    214\u001b[39m         )\n\u001b[32m    215\u001b[39m     ):\n\u001b[32m--> \u001b[39m\u001b[32m216\u001b[39m         \u001b[38;5;28;01mreturn\u001b[39;00m \u001b[43mfunc\u001b[49m\u001b[43m(\u001b[49m\u001b[43m*\u001b[49m\u001b[43margs\u001b[49m\u001b[43m,\u001b[49m\u001b[43m \u001b[49m\u001b[43m*\u001b[49m\u001b[43m*\u001b[49m\u001b[43mkwargs\u001b[49m\u001b[43m)\u001b[49m\n\u001b[32m    217\u001b[39m \u001b[38;5;28;01mexcept\u001b[39;00m InvalidParameterError \u001b[38;5;28;01mas\u001b[39;00m e:\n\u001b[32m    218\u001b[39m     \u001b[38;5;66;03m# When the function is just a wrapper around an estimator, we allow\u001b[39;00m\n\u001b[32m    219\u001b[39m     \u001b[38;5;66;03m# the function to delegate validation to the estimator, but we replace\u001b[39;00m\n\u001b[32m    220\u001b[39m     \u001b[38;5;66;03m# the name of the estimator by the name of the function in the error\u001b[39;00m\n\u001b[32m    221\u001b[39m     \u001b[38;5;66;03m# message to avoid confusion.\u001b[39;00m\n\u001b[32m    222\u001b[39m     msg = re.sub(\n\u001b[32m    223\u001b[39m         \u001b[33mr\u001b[39m\u001b[33m\"\u001b[39m\u001b[33mparameter of \u001b[39m\u001b[33m\\\u001b[39m\u001b[33mw+ must be\u001b[39m\u001b[33m\"\u001b[39m,\n\u001b[32m    224\u001b[39m         \u001b[33mf\u001b[39m\u001b[33m\"\u001b[39m\u001b[33mparameter of \u001b[39m\u001b[38;5;132;01m{\u001b[39;00mfunc.\u001b[34m__qualname__\u001b[39m\u001b[38;5;132;01m}\u001b[39;00m\u001b[33m must be\u001b[39m\u001b[33m\"\u001b[39m,\n\u001b[32m    225\u001b[39m         \u001b[38;5;28mstr\u001b[39m(e),\n\u001b[32m    226\u001b[39m     )\n",
      "\u001b[36mFile \u001b[39m\u001b[32md:\\Kuliah\\Rifky - Full program setelah revisi\\virtualenv\\Lib\\site-packages\\sklearn\\metrics\\_classification.py:354\u001b[39m, in \u001b[36mconfusion_matrix\u001b[39m\u001b[34m(y_true, y_pred, labels, sample_weight, normalize)\u001b[39m\n\u001b[32m    352\u001b[39m         \u001b[38;5;28;01mreturn\u001b[39;00m np.zeros((n_labels, n_labels), dtype=\u001b[38;5;28mint\u001b[39m)\n\u001b[32m    353\u001b[39m     \u001b[38;5;28;01melif\u001b[39;00m \u001b[38;5;28mlen\u001b[39m(np.intersect1d(y_true, labels)) == \u001b[32m0\u001b[39m:\n\u001b[32m--> \u001b[39m\u001b[32m354\u001b[39m         \u001b[38;5;28;01mraise\u001b[39;00m \u001b[38;5;167;01mValueError\u001b[39;00m(\u001b[33m\"\u001b[39m\u001b[33mAt least one label specified must be in y_true\u001b[39m\u001b[33m\"\u001b[39m)\n\u001b[32m    356\u001b[39m \u001b[38;5;28;01mif\u001b[39;00m sample_weight \u001b[38;5;129;01mis\u001b[39;00m \u001b[38;5;28;01mNone\u001b[39;00m:\n\u001b[32m    357\u001b[39m     sample_weight = np.ones(y_true.shape[\u001b[32m0\u001b[39m], dtype=np.int64)\n",
      "\u001b[31mValueError\u001b[39m: At least one label specified must be in y_true"
     ]
    }
   ],
   "source": [
    "Confusion_matrix = confusion_matrix(y_test, y_pred, labels=[\"news, sport, hot, finance, health\"])\n",
    "class_label      = ['Positif', 'Netral', 'Negatif', ]\n",
    "df_confusion     = pd.DataFrame(Confusion_matrix, index = class_label, columns = class_label)\n",
    "\n",
    "sns.heatmap(df_confusion, annot=True, fmt = \"d\", cmap=plt.cm.Blues)\n",
    "plt.title('Confusion Matrix')\n",
    "plt.xlabel('Prediction Label')\n",
    "plt.ylabel('Actual Label')\n",
    "plt.show()"
   ]
  },
  {
   "cell_type": "code",
   "execution_count": 46,
   "id": "7a149bfa-2198-47a7-b9eb-23a1c910b5ee",
   "metadata": {
    "colab": {
     "base_uri": "https://localhost:8080/"
    },
    "executionInfo": {
     "elapsed": 55,
     "status": "ok",
     "timestamp": 1745994849539,
     "user": {
      "displayName": "Ira Ekanda Putri",
      "userId": "16829777542153973849"
     },
     "user_tz": -420
    },
    "id": "7a149bfa-2198-47a7-b9eb-23a1c910b5ee",
    "outputId": "5e9f83d5-76f6-4181-f6cb-111266214941"
   },
   "outputs": [
    {
     "name": "stdout",
     "output_type": "stream",
     "text": [
      "Accuracy   = 69.75 %\n",
      "Precission = 70.39 %\n",
      "Recall     = 69.75 %\n",
      "F1-Score   = 69.86 %\n"
     ]
    }
   ],
   "source": [
    "_accuracy   = round(accuracy_score(y_test, y_pred)*100, 2)\n",
    "_precission = round(precision_score(y_test, y_pred, average='weighted')*100, 2)\n",
    "_recall     = round(recall_score(y_test, y_pred, average='weighted')*100, 2)\n",
    "_fscore     = round(f1_score(y_test, y_pred, average='weighted')*100, 2)\n",
    "\n",
    "print('Accuracy   =', _accuracy,'%')\n",
    "print('Precission =', _precission,'%')\n",
    "print('Recall     =', _recall,'%')\n",
    "print('F1-Score   =', _fscore,'%')"
   ]
  },
  {
   "cell_type": "code",
   "execution_count": null,
   "id": "a0d779cb-6126-4b00-bbae-bf2108508356",
   "metadata": {
    "id": "a0d779cb-6126-4b00-bbae-bf2108508356"
   },
   "outputs": [],
   "source": []
  }
 ],
 "metadata": {
  "colab": {
   "provenance": []
  },
  "kernelspec": {
   "display_name": "virtualenv",
   "language": "python",
   "name": "python3"
  },
  "language_info": {
   "codemirror_mode": {
    "name": "ipython",
    "version": 3
   },
   "file_extension": ".py",
   "mimetype": "text/x-python",
   "name": "python",
   "nbconvert_exporter": "python",
   "pygments_lexer": "ipython3",
   "version": "3.11.2"
  }
 },
 "nbformat": 4,
 "nbformat_minor": 5
}
