{
 "cells": [
  {
   "cell_type": "code",
   "execution_count": 4,
   "id": "5d5f77c7-7253-48b8-b8cf-c993a161d590",
   "metadata": {
    "colab": {
     "base_uri": "https://localhost:8080/"
    },
    "executionInfo": {
     "elapsed": 1610,
     "status": "ok",
     "timestamp": 1745994752346,
     "user": {
      "displayName": "Ira Ekanda Putri",
      "userId": "16829777542153973849"
     },
     "user_tz": -420
    },
    "id": "5d5f77c7-7253-48b8-b8cf-c993a161d590",
    "outputId": "6e157291-0a27-4d39-a5fd-4edd0b1fe6ed"
   },
   "outputs": [
    {
     "name": "stdout",
     "output_type": "stream",
     "text": [
      "Drive already mounted at /content/drive; to attempt to forcibly remount, call drive.mount(\"/content/drive\", force_remount=True).\n"
     ]
    }
   ],
   "source": [
    "# Mount GDRIVE jika menggunakan Google Collab\n",
    "from google.colab import drive\n",
    "drive.mount('/content/drive')\n",
    "\n",
    "PATH = '/content/drive/MyDrive/Source Code/'\n",
    "\n",
    "# Jika tidak menggunakan google collab\n",
    "# PATH = ''"
   ]
  },
  {
   "cell_type": "code",
   "execution_count": 3,
   "id": "PxsuWg2IZGh3",
   "metadata": {
    "colab": {
     "base_uri": "https://localhost:8080/"
    },
    "executionInfo": {
     "elapsed": 14694,
     "status": "ok",
     "timestamp": 1745994689758,
     "user": {
      "displayName": "Ira Ekanda Putri",
      "userId": "16829777542153973849"
     },
     "user_tz": -420
    },
    "id": "PxsuWg2IZGh3",
    "outputId": "6b689c4b-5614-41a9-ce9d-9dd5946fed03"
   },
   "outputs": [
    {
     "name": "stdout",
     "output_type": "stream",
     "text": [
      "Collecting gensim\n",
      "  Downloading gensim-4.3.3-cp311-cp311-manylinux_2_17_x86_64.manylinux2014_x86_64.whl.metadata (8.1 kB)\n",
      "Collecting numpy<2.0,>=1.18.5 (from gensim)\n",
      "  Downloading numpy-1.26.4-cp311-cp311-manylinux_2_17_x86_64.manylinux2014_x86_64.whl.metadata (61 kB)\n",
      "\u001b[2K     \u001b[90m━━━━━━━━━━━━━━━━━━━━━━━━━━━━━━━━━━━━━━━━\u001b[0m \u001b[32m61.0/61.0 kB\u001b[0m \u001b[31m2.4 MB/s\u001b[0m eta \u001b[36m0:00:00\u001b[0m\n",
      "\u001b[?25hCollecting scipy<1.14.0,>=1.7.0 (from gensim)\n",
      "  Downloading scipy-1.13.1-cp311-cp311-manylinux_2_17_x86_64.manylinux2014_x86_64.whl.metadata (60 kB)\n",
      "\u001b[2K     \u001b[90m━━━━━━━━━━━━━━━━━━━━━━━━━━━━━━━━━━━━━━━━\u001b[0m \u001b[32m60.6/60.6 kB\u001b[0m \u001b[31m2.8 MB/s\u001b[0m eta \u001b[36m0:00:00\u001b[0m\n",
      "\u001b[?25hRequirement already satisfied: smart-open>=1.8.1 in /usr/local/lib/python3.11/dist-packages (from gensim) (7.1.0)\n",
      "Requirement already satisfied: wrapt in /usr/local/lib/python3.11/dist-packages (from smart-open>=1.8.1->gensim) (1.17.2)\n",
      "Downloading gensim-4.3.3-cp311-cp311-manylinux_2_17_x86_64.manylinux2014_x86_64.whl (26.7 MB)\n",
      "\u001b[2K   \u001b[90m━━━━━━━━━━━━━━━━━━━━━━━━━━━━━━━━━━━━━━━━\u001b[0m \u001b[32m26.7/26.7 MB\u001b[0m \u001b[31m86.3 MB/s\u001b[0m eta \u001b[36m0:00:00\u001b[0m\n",
      "\u001b[?25hDownloading numpy-1.26.4-cp311-cp311-manylinux_2_17_x86_64.manylinux2014_x86_64.whl (18.3 MB)\n",
      "\u001b[2K   \u001b[90m━━━━━━━━━━━━━━━━━━━━━━━━━━━━━━━━━━━━━━━━\u001b[0m \u001b[32m18.3/18.3 MB\u001b[0m \u001b[31m121.0 MB/s\u001b[0m eta \u001b[36m0:00:00\u001b[0m\n",
      "\u001b[?25hDownloading scipy-1.13.1-cp311-cp311-manylinux_2_17_x86_64.manylinux2014_x86_64.whl (38.6 MB)\n",
      "\u001b[2K   \u001b[90m━━━━━━━━━━━━━━━━━━━━━━━━━━━━━━━━━━━━━━━━\u001b[0m \u001b[32m38.6/38.6 MB\u001b[0m \u001b[31m25.2 MB/s\u001b[0m eta \u001b[36m0:00:00\u001b[0m\n",
      "\u001b[?25hInstalling collected packages: numpy, scipy, gensim\n",
      "  Attempting uninstall: numpy\n",
      "    Found existing installation: numpy 2.0.2\n",
      "    Uninstalling numpy-2.0.2:\n",
      "      Successfully uninstalled numpy-2.0.2\n",
      "  Attempting uninstall: scipy\n",
      "    Found existing installation: scipy 1.15.2\n",
      "    Uninstalling scipy-1.15.2:\n",
      "      Successfully uninstalled scipy-1.15.2\n",
      "\u001b[31mERROR: pip's dependency resolver does not currently take into account all the packages that are installed. This behaviour is the source of the following dependency conflicts.\n",
      "thinc 8.3.6 requires numpy<3.0.0,>=2.0.0, but you have numpy 1.26.4 which is incompatible.\u001b[0m\u001b[31m\n",
      "\u001b[0mSuccessfully installed gensim-4.3.3 numpy-1.26.4 scipy-1.13.1\n"
     ]
    }
   ],
   "source": [
    "# !pip install gensim"
   ]
  },
  {
   "cell_type": "code",
   "execution_count": 5,
   "id": "xHx-IMNfZNml",
   "metadata": {
    "colab": {
     "base_uri": "https://localhost:8080/"
    },
    "executionInfo": {
     "elapsed": 11773,
     "status": "ok",
     "timestamp": 1745994716027,
     "user": {
      "displayName": "Ira Ekanda Putri",
      "userId": "16829777542153973849"
     },
     "user_tz": -420
    },
    "id": "xHx-IMNfZNml",
    "outputId": "fef82e66-3a12-42cf-f8e3-f2be27b4e05d"
   },
   "outputs": [
    {
     "name": "stdout",
     "output_type": "stream",
     "text": [
      "Requirement already satisfied: numpy in /usr/local/lib/python3.11/dist-packages (1.26.4)\n",
      "Collecting numpy\n",
      "  Downloading numpy-2.2.5-cp311-cp311-manylinux_2_17_x86_64.manylinux2014_x86_64.whl.metadata (62 kB)\n",
      "\u001b[2K     \u001b[90m━━━━━━━━━━━━━━━━━━━━━━━━━━━━━━━━━━━━━━━━\u001b[0m \u001b[32m62.0/62.0 kB\u001b[0m \u001b[31m1.8 MB/s\u001b[0m eta \u001b[36m0:00:00\u001b[0m\n",
      "\u001b[?25hDownloading numpy-2.2.5-cp311-cp311-manylinux_2_17_x86_64.manylinux2014_x86_64.whl (16.4 MB)\n",
      "\u001b[2K   \u001b[90m━━━━━━━━━━━━━━━━━━━━━━━━━━━━━━━━━━━━━━━━\u001b[0m \u001b[32m16.4/16.4 MB\u001b[0m \u001b[31m93.1 MB/s\u001b[0m eta \u001b[36m0:00:00\u001b[0m\n",
      "\u001b[?25hInstalling collected packages: numpy\n",
      "  Attempting uninstall: numpy\n",
      "    Found existing installation: numpy 1.26.4\n",
      "    Uninstalling numpy-1.26.4:\n",
      "      Successfully uninstalled numpy-1.26.4\n",
      "\u001b[31mERROR: pip's dependency resolver does not currently take into account all the packages that are installed. This behaviour is the source of the following dependency conflicts.\n",
      "gensim 4.3.3 requires numpy<2.0,>=1.18.5, but you have numpy 2.2.5 which is incompatible.\n",
      "tensorflow 2.18.0 requires numpy<2.1.0,>=1.26.0, but you have numpy 2.2.5 which is incompatible.\n",
      "numba 0.60.0 requires numpy<2.1,>=1.22, but you have numpy 2.2.5 which is incompatible.\u001b[0m\u001b[31m\n",
      "\u001b[0mSuccessfully installed numpy-2.2.5\n",
      "Requirement already satisfied: gensim in /usr/local/lib/python3.11/dist-packages (4.3.3)\n",
      "Collecting numpy<2.0,>=1.18.5 (from gensim)\n",
      "  Using cached numpy-1.26.4-cp311-cp311-manylinux_2_17_x86_64.manylinux2014_x86_64.whl.metadata (61 kB)\n",
      "Requirement already satisfied: scipy<1.14.0,>=1.7.0 in /usr/local/lib/python3.11/dist-packages (from gensim) (1.13.1)\n",
      "Requirement already satisfied: smart-open>=1.8.1 in /usr/local/lib/python3.11/dist-packages (from gensim) (7.1.0)\n",
      "Requirement already satisfied: wrapt in /usr/local/lib/python3.11/dist-packages (from smart-open>=1.8.1->gensim) (1.17.2)\n",
      "Using cached numpy-1.26.4-cp311-cp311-manylinux_2_17_x86_64.manylinux2014_x86_64.whl (18.3 MB)\n",
      "Installing collected packages: numpy\n",
      "  Attempting uninstall: numpy\n",
      "    Found existing installation: numpy 2.2.5\n",
      "    Uninstalling numpy-2.2.5:\n",
      "      Successfully uninstalled numpy-2.2.5\n",
      "\u001b[31mERROR: pip's dependency resolver does not currently take into account all the packages that are installed. This behaviour is the source of the following dependency conflicts.\n",
      "thinc 8.3.6 requires numpy<3.0.0,>=2.0.0, but you have numpy 1.26.4 which is incompatible.\u001b[0m\u001b[31m\n",
      "\u001b[0mSuccessfully installed numpy-1.26.4\n"
     ]
    }
   ],
   "source": [
    "!pip install numpy --upgrade\n",
    "!pip install gensim --upgrade\n"
   ]
  },
  {
   "cell_type": "code",
   "execution_count": 2,
   "id": "df607107-9cff-48b5-99ec-bd0d0968b61a",
   "metadata": {
    "executionInfo": {
     "elapsed": 2102,
     "status": "ok",
     "timestamp": 1745994732326,
     "user": {
      "displayName": "Ira Ekanda Putri",
      "userId": "16829777542153973849"
     },
     "user_tz": -420
    },
    "id": "df607107-9cff-48b5-99ec-bd0d0968b61a"
   },
   "outputs": [],
   "source": [
    "import numpy as np\n",
    "import pandas as pd\n",
    "import matplotlib.cm as cm\n",
    "import matplotlib.pyplot as plt\n",
    "import seaborn as sns\n",
    "from sklearn.model_selection import train_test_split\n",
    "from sklearn.svm import SVC\n",
    "from gensim.utils import simple_preprocess\n",
    "from gensim.models import Word2Vec\n",
    "from sklearn.metrics import accuracy_score, confusion_matrix, precision_score, recall_score, f1_score"
   ]
  },
  {
   "cell_type": "markdown",
   "id": "75af970e-944a-41b6-b09f-75c2f71cc53f",
   "metadata": {
    "id": "75af970e-944a-41b6-b09f-75c2f71cc53f"
   },
   "source": [
    "## Membaca Dataset Hasil Preprocessing"
   ]
  },
  {
   "cell_type": "code",
   "execution_count": 6,
   "id": "18328705",
   "metadata": {},
   "outputs": [],
   "source": [
    "PATH = \"\""
   ]
  },
  {
   "cell_type": "code",
   "execution_count": 7,
   "id": "0c31130a-1b5a-481f-8a2e-8d3b7b866a97",
   "metadata": {
    "colab": {
     "base_uri": "https://localhost:8080/",
     "height": 510
    },
    "executionInfo": {
     "elapsed": 1249,
     "status": "ok",
     "timestamp": 1745994757273,
     "user": {
      "displayName": "Ira Ekanda Putri",
      "userId": "16829777542153973849"
     },
     "user_tz": -420
    },
    "id": "0c31130a-1b5a-481f-8a2e-8d3b7b866a97",
    "outputId": "9293787d-a536-436c-c9c9-77fcfbeeaed3"
   },
   "outputs": [
    {
     "data": {
      "text/html": [
       "<div>\n",
       "<style scoped>\n",
       "    .dataframe tbody tr th:only-of-type {\n",
       "        vertical-align: middle;\n",
       "    }\n",
       "\n",
       "    .dataframe tbody tr th {\n",
       "        vertical-align: top;\n",
       "    }\n",
       "\n",
       "    .dataframe thead th {\n",
       "        text-align: right;\n",
       "    }\n",
       "</style>\n",
       "<table border=\"1\" class=\"dataframe\">\n",
       "  <thead>\n",
       "    <tr style=\"text-align: right;\">\n",
       "      <th></th>\n",
       "      <th>sentimen</th>\n",
       "      <th>Tweet</th>\n",
       "      <th>casefolding</th>\n",
       "      <th>cleaning</th>\n",
       "      <th>stopwords</th>\n",
       "      <th>stemming</th>\n",
       "    </tr>\n",
       "  </thead>\n",
       "  <tbody>\n",
       "    <tr>\n",
       "      <th>0</th>\n",
       "      <td>-1</td>\n",
       "      <td>lagu bosan apa yang aku save ni huhuhuhuhuhuhu...</td>\n",
       "      <td>lagu bosan apa yang aku save ni huhuhuhuhuhuhu...</td>\n",
       "      <td>lagu bosan  yang  save</td>\n",
       "      <td>lagu bosan   save</td>\n",
       "      <td>lagu bosan save</td>\n",
       "    </tr>\n",
       "    <tr>\n",
       "      <th>1</th>\n",
       "      <td>-1</td>\n",
       "      <td>kita lanjutkan saja diam ini hingga kau dan ak...</td>\n",
       "      <td>kita lanjutkan saja diam ini hingga kau dan ak...</td>\n",
       "      <td>kita lanjutkan saja diam ini hingga kau dan  m...</td>\n",
       "      <td>lanjutkan diam  mengerti   hati</td>\n",
       "      <td>lanjut diam erti hati</td>\n",
       "    </tr>\n",
       "    <tr>\n",
       "      <th>2</th>\n",
       "      <td>1</td>\n",
       "      <td>doa rezeki tak putus inna haa zaa larizquna ma...</td>\n",
       "      <td>doa rezeki tak putus inna haa zaa larizquna ma...</td>\n",
       "      <td>doa rezeki tak putus inna haa  larizquna maa l...</td>\n",
       "      <td>doa rezeki putus inna haa  larizquna maa lahu ...</td>\n",
       "      <td>doa rezeki putus inna haa larizquna maa lahu m...</td>\n",
       "    </tr>\n",
       "    <tr>\n",
       "      <th>3</th>\n",
       "      <td>1</td>\n",
       "      <td>makasih loh ntar kita bagi hasil aku 99 9 sisa...</td>\n",
       "      <td>makasih loh ntar kita bagi hasil aku 99 9 sisa...</td>\n",
       "      <td>makasih loh ntar kita bagi hasil  sisanya buat...</td>\n",
       "      <td>makasih loh ntar hasil  sisanya</td>\n",
       "      <td>makasih loh ntar hasil sisa</td>\n",
       "    </tr>\n",
       "    <tr>\n",
       "      <th>4</th>\n",
       "      <td>-1</td>\n",
       "      <td>aku tak faham betul jenis orang malaysia yang ...</td>\n",
       "      <td>aku tak faham betul jenis orang malaysia yang ...</td>\n",
       "      <td>tak faham betul jenis orang malaysia yang tak...</td>\n",
       "      <td>faham jenis orang malaysia reti nak sangkut h...</td>\n",
       "      <td>faham jenis orang malaysia ret nak sangkut hos...</td>\n",
       "    </tr>\n",
       "    <tr>\n",
       "      <th>...</th>\n",
       "      <td>...</td>\n",
       "      <td>...</td>\n",
       "      <td>...</td>\n",
       "      <td>...</td>\n",
       "      <td>...</td>\n",
       "      <td>...</td>\n",
       "    </tr>\n",
       "    <tr>\n",
       "      <th>10801</th>\n",
       "      <td>1</td>\n",
       "      <td>Jangan membandingkan kehidupanmu dengan kehidu...</td>\n",
       "      <td>jangan membandingkan kehidupanmu dengan kehidu...</td>\n",
       "      <td>jangan   dengan kehidupan orang lain karena se...</td>\n",
       "      <td>kehidupan orang memiliki karunia</td>\n",
       "      <td>hidup orang milik karunia</td>\n",
       "    </tr>\n",
       "    <tr>\n",
       "      <th>10802</th>\n",
       "      <td>0</td>\n",
       "      <td>Sini uname lu ntar gua follow</td>\n",
       "      <td>sini uname lu ntar gua follow</td>\n",
       "      <td>sini uname  ntar gua follow</td>\n",
       "      <td>uname  ntar gua follow</td>\n",
       "      <td>uname ntar gua follow</td>\n",
       "    </tr>\n",
       "    <tr>\n",
       "      <th>10803</th>\n",
       "      <td>1</td>\n",
       "      <td>Apapun yg telah kamu lakukan apapun kesalahanm...</td>\n",
       "      <td>apapun yg telah kamu lakukan apapun kesalahanm...</td>\n",
       "      <td>telah kamu lakukan   kamu  selalu menemukan ...</td>\n",
       "      <td>lakukan    menemukan maaf hati botkece</td>\n",
       "      <td>laku temu maaf hati botkece</td>\n",
       "    </tr>\n",
       "    <tr>\n",
       "      <th>10804</th>\n",
       "      <td>1</td>\n",
       "      <td>3 cara untuk ingat semula apa yang kita dah ha...</td>\n",
       "      <td>3 cara untuk ingat semula apa yang kita dah ha...</td>\n",
       "      <td>cara untuk ingat semula  yang kita dah hafal</td>\n",
       "      <td>dah hafal</td>\n",
       "      <td>dah hafal</td>\n",
       "    </tr>\n",
       "    <tr>\n",
       "      <th>10805</th>\n",
       "      <td>1</td>\n",
       "      <td>Semoga Allah permudahkan urusan aku amp orang ...</td>\n",
       "      <td>semoga allah permudahkan urusan aku amp orang ...</td>\n",
       "      <td>semoga   urusan   orang   yang tengah stress t...</td>\n",
       "      <td>semoga   urusan   orang   stress kisah pasal  ...</td>\n",
       "      <td>moga urus orang stress kisah pasal kerja</td>\n",
       "    </tr>\n",
       "  </tbody>\n",
       "</table>\n",
       "<p>10806 rows × 6 columns</p>\n",
       "</div>"
      ],
      "text/plain": [
       "       sentimen                                              Tweet  \\\n",
       "0            -1  lagu bosan apa yang aku save ni huhuhuhuhuhuhu...   \n",
       "1            -1  kita lanjutkan saja diam ini hingga kau dan ak...   \n",
       "2             1  doa rezeki tak putus inna haa zaa larizquna ma...   \n",
       "3             1  makasih loh ntar kita bagi hasil aku 99 9 sisa...   \n",
       "4            -1  aku tak faham betul jenis orang malaysia yang ...   \n",
       "...         ...                                                ...   \n",
       "10801         1  Jangan membandingkan kehidupanmu dengan kehidu...   \n",
       "10802         0                      Sini uname lu ntar gua follow   \n",
       "10803         1  Apapun yg telah kamu lakukan apapun kesalahanm...   \n",
       "10804         1  3 cara untuk ingat semula apa yang kita dah ha...   \n",
       "10805         1  Semoga Allah permudahkan urusan aku amp orang ...   \n",
       "\n",
       "                                             casefolding  \\\n",
       "0      lagu bosan apa yang aku save ni huhuhuhuhuhuhu...   \n",
       "1      kita lanjutkan saja diam ini hingga kau dan ak...   \n",
       "2      doa rezeki tak putus inna haa zaa larizquna ma...   \n",
       "3      makasih loh ntar kita bagi hasil aku 99 9 sisa...   \n",
       "4      aku tak faham betul jenis orang malaysia yang ...   \n",
       "...                                                  ...   \n",
       "10801  jangan membandingkan kehidupanmu dengan kehidu...   \n",
       "10802                      sini uname lu ntar gua follow   \n",
       "10803  apapun yg telah kamu lakukan apapun kesalahanm...   \n",
       "10804  3 cara untuk ingat semula apa yang kita dah ha...   \n",
       "10805  semoga allah permudahkan urusan aku amp orang ...   \n",
       "\n",
       "                                                cleaning  \\\n",
       "0                               lagu bosan  yang  save     \n",
       "1      kita lanjutkan saja diam ini hingga kau dan  m...   \n",
       "2      doa rezeki tak putus inna haa  larizquna maa l...   \n",
       "3      makasih loh ntar kita bagi hasil  sisanya buat...   \n",
       "4       tak faham betul jenis orang malaysia yang tak...   \n",
       "...                                                  ...   \n",
       "10801  jangan   dengan kehidupan orang lain karena se...   \n",
       "10802                        sini uname  ntar gua follow   \n",
       "10803    telah kamu lakukan   kamu  selalu menemukan ...   \n",
       "10804       cara untuk ingat semula  yang kita dah hafal   \n",
       "10805  semoga   urusan   orang   yang tengah stress t...   \n",
       "\n",
       "                                               stopwords  \\\n",
       "0                                    lagu bosan   save     \n",
       "1                        lanjutkan diam  mengerti   hati   \n",
       "2      doa rezeki putus inna haa  larizquna maa lahu ...   \n",
       "3                        makasih loh ntar hasil  sisanya   \n",
       "4       faham jenis orang malaysia reti nak sangkut h...   \n",
       "...                                                  ...   \n",
       "10801                   kehidupan orang memiliki karunia   \n",
       "10802                             uname  ntar gua follow   \n",
       "10803             lakukan    menemukan maaf hati botkece   \n",
       "10804                                          dah hafal   \n",
       "10805  semoga   urusan   orang   stress kisah pasal  ...   \n",
       "\n",
       "                                                stemming  \n",
       "0                                        lagu bosan save  \n",
       "1                                  lanjut diam erti hati  \n",
       "2      doa rezeki putus inna haa larizquna maa lahu m...  \n",
       "3                            makasih loh ntar hasil sisa  \n",
       "4      faham jenis orang malaysia ret nak sangkut hos...  \n",
       "...                                                  ...  \n",
       "10801                          hidup orang milik karunia  \n",
       "10802                              uname ntar gua follow  \n",
       "10803                        laku temu maaf hati botkece  \n",
       "10804                                          dah hafal  \n",
       "10805           moga urus orang stress kisah pasal kerja  \n",
       "\n",
       "[10806 rows x 6 columns]"
      ]
     },
     "execution_count": 7,
     "metadata": {},
     "output_type": "execute_result"
    }
   ],
   "source": [
    "data = pd.read_csv(PATH + 'hasil_preprocessing.csv', delimiter=',')\n",
    "data"
   ]
  },
  {
   "cell_type": "markdown",
   "id": "059c5f43-a9b0-48c0-ab01-babc8ab1ba07",
   "metadata": {
    "id": "059c5f43-a9b0-48c0-ab01-babc8ab1ba07"
   },
   "source": [
    "Menampilkan informasi data."
   ]
  },
  {
   "cell_type": "code",
   "execution_count": 8,
   "id": "051a38bc-114e-4663-87f7-7bdffdba5231",
   "metadata": {
    "colab": {
     "base_uri": "https://localhost:8080/"
    },
    "executionInfo": {
     "elapsed": 8,
     "status": "ok",
     "timestamp": 1745994758602,
     "user": {
      "displayName": "Ira Ekanda Putri",
      "userId": "16829777542153973849"
     },
     "user_tz": -420
    },
    "id": "051a38bc-114e-4663-87f7-7bdffdba5231",
    "outputId": "4a007754-ce21-4bfa-f535-75c5de30fddb"
   },
   "outputs": [
    {
     "name": "stdout",
     "output_type": "stream",
     "text": [
      "<class 'pandas.core.frame.DataFrame'>\n",
      "RangeIndex: 10806 entries, 0 to 10805\n",
      "Data columns (total 6 columns):\n",
      " #   Column       Non-Null Count  Dtype \n",
      "---  ------       --------------  ----- \n",
      " 0   sentimen     10806 non-null  int64 \n",
      " 1   Tweet        10806 non-null  object\n",
      " 2   casefolding  10806 non-null  object\n",
      " 3   cleaning     10780 non-null  object\n",
      " 4   stopwords    10706 non-null  object\n",
      " 5   stemming     10618 non-null  object\n",
      "dtypes: int64(1), object(5)\n",
      "memory usage: 506.7+ KB\n"
     ]
    }
   ],
   "source": [
    "data.info()"
   ]
  },
  {
   "cell_type": "markdown",
   "id": "83db4595-5093-4a54-9897-4a301c5cd1a7",
   "metadata": {
    "id": "83db4595-5093-4a54-9897-4a301c5cd1a7"
   },
   "source": [
    "Menampilkan jumlah data Null setiap kolom."
   ]
  },
  {
   "cell_type": "code",
   "execution_count": 9,
   "id": "96d77268-2a0b-4b0c-b9b0-da9ecaaee92d",
   "metadata": {
    "colab": {
     "base_uri": "https://localhost:8080/",
     "height": 272
    },
    "executionInfo": {
     "elapsed": 10,
     "status": "ok",
     "timestamp": 1745994761044,
     "user": {
      "displayName": "Ira Ekanda Putri",
      "userId": "16829777542153973849"
     },
     "user_tz": -420
    },
    "id": "96d77268-2a0b-4b0c-b9b0-da9ecaaee92d",
    "outputId": "20b00c44-97b3-4fc9-f9c3-3a4f9b68d37d"
   },
   "outputs": [
    {
     "data": {
      "text/plain": [
       "sentimen         0\n",
       "Tweet            0\n",
       "casefolding      0\n",
       "cleaning        26\n",
       "stopwords      100\n",
       "stemming       188\n",
       "dtype: int64"
      ]
     },
     "execution_count": 9,
     "metadata": {},
     "output_type": "execute_result"
    }
   ],
   "source": [
    "data.isnull().sum()"
   ]
  },
  {
   "cell_type": "markdown",
   "id": "5460f918-14bf-404a-8d52-80720a7dc336",
   "metadata": {
    "id": "5460f918-14bf-404a-8d52-80720a7dc336"
   },
   "source": [
    "Menghapus data jika dalam satu baris terdapat data Null."
   ]
  },
  {
   "cell_type": "code",
   "execution_count": 10,
   "id": "00847f32-e7c6-4907-bf89-4e80be751892",
   "metadata": {
    "executionInfo": {
     "elapsed": 3,
     "status": "ok",
     "timestamp": 1745994772917,
     "user": {
      "displayName": "Ira Ekanda Putri",
      "userId": "16829777542153973849"
     },
     "user_tz": -420
    },
    "id": "00847f32-e7c6-4907-bf89-4e80be751892"
   },
   "outputs": [],
   "source": [
    "data = data.dropna().reset_index(drop=True)"
   ]
  },
  {
   "cell_type": "code",
   "execution_count": 11,
   "id": "51193bab-3a34-4ccf-bff8-958ade763768",
   "metadata": {
    "colab": {
     "base_uri": "https://localhost:8080/",
     "height": 272
    },
    "executionInfo": {
     "elapsed": 8,
     "status": "ok",
     "timestamp": 1745994773622,
     "user": {
      "displayName": "Ira Ekanda Putri",
      "userId": "16829777542153973849"
     },
     "user_tz": -420
    },
    "id": "51193bab-3a34-4ccf-bff8-958ade763768",
    "outputId": "219a06df-b04e-4e55-9ec6-0f315681d7d3"
   },
   "outputs": [
    {
     "data": {
      "text/plain": [
       "sentimen       0\n",
       "Tweet          0\n",
       "casefolding    0\n",
       "cleaning       0\n",
       "stopwords      0\n",
       "stemming       0\n",
       "dtype: int64"
      ]
     },
     "execution_count": 11,
     "metadata": {},
     "output_type": "execute_result"
    }
   ],
   "source": [
    "data.isnull().sum()"
   ]
  },
  {
   "cell_type": "markdown",
   "id": "70ebe011-317f-470d-b285-8a25bf37be90",
   "metadata": {
    "id": "70ebe011-317f-470d-b285-8a25bf37be90"
   },
   "source": [
    "Menampilkan jumlah data masing-masing label."
   ]
  },
  {
   "cell_type": "code",
   "execution_count": 12,
   "id": "e5ef49d4-fc91-479f-86cb-0a47bcb0ad2f",
   "metadata": {
    "colab": {
     "base_uri": "https://localhost:8080/",
     "height": 210
    },
    "executionInfo": {
     "elapsed": 6,
     "status": "ok",
     "timestamp": 1745994775911,
     "user": {
      "displayName": "Ira Ekanda Putri",
      "userId": "16829777542153973849"
     },
     "user_tz": -420
    },
    "id": "e5ef49d4-fc91-479f-86cb-0a47bcb0ad2f",
    "outputId": "4a05baad-332a-4f6e-85e6-30018f127fc2"
   },
   "outputs": [
    {
     "data": {
      "text/plain": [
       "sentimen\n",
       " 0    5228\n",
       "-1    2851\n",
       " 1    2539\n",
       "Name: count, dtype: int64"
      ]
     },
     "execution_count": 12,
     "metadata": {},
     "output_type": "execute_result"
    }
   ],
   "source": [
    "data['sentimen'].value_counts()"
   ]
  },
  {
   "cell_type": "code",
   "execution_count": 13,
   "id": "99dc0e4f-376b-4d6c-8600-de395b6070dc",
   "metadata": {
    "colab": {
     "base_uri": "https://localhost:8080/",
     "height": 487
    },
    "executionInfo": {
     "elapsed": 234,
     "status": "ok",
     "timestamp": 1745994777309,
     "user": {
      "displayName": "Ira Ekanda Putri",
      "userId": "16829777542153973849"
     },
     "user_tz": -420
    },
    "id": "99dc0e4f-376b-4d6c-8600-de395b6070dc",
    "outputId": "b46c020b-e9df-4480-92d3-ce26f7a904e9"
   },
   "outputs": [
    {
     "data": {
      "image/png": "[encoded data removed]",
      "text/plain": [
       "<Figure size 1000x500 with 1 Axes>"
      ]
     },
     "metadata": {},
     "output_type": "display_data"
    }
   ],
   "source": [
    "names = data.groupby(['sentimen']).size().index.to_list()\n",
    "values = data.groupby(['sentimen']).size().to_list()\n",
    "\n",
    "# Menghasilkan warna menggunakan colormap\n",
    "num_colors = len(names)\n",
    "colors = cm.viridis(np.linspace(0, 1, num_colors))\n",
    "\n",
    "plt.figure(figsize=(10, 5))\n",
    "plt.bar(names, values, color=colors)\n",
    "plt.xlabel('Kelas')\n",
    "plt.ylabel('Jumlah Data')\n",
    "plt.title('Perbandingan jumlah data setiap kelas')\n",
    "plt.show()"
   ]
  },
  {
   "cell_type": "markdown",
   "id": "b965559b-a6de-4551-ac9a-10bf59bb396f",
   "metadata": {
    "id": "b965559b-a6de-4551-ac9a-10bf59bb396f"
   },
   "source": [
    "## Word2Vec"
   ]
  },
  {
   "cell_type": "code",
   "execution_count": 14,
   "id": "0090d785-5af0-4df1-8c67-65fccfe8cd2d",
   "metadata": {
    "executionInfo": {
     "elapsed": 4,
     "status": "ok",
     "timestamp": 1745994785359,
     "user": {
      "displayName": "Ira Ekanda Putri",
      "userId": "16829777542153973849"
     },
     "user_tz": -420
    },
    "id": "0090d785-5af0-4df1-8c67-65fccfe8cd2d"
   },
   "outputs": [],
   "source": [
    "X = data['stemming']  # Kolom teks\n",
    "y = data['sentimen']  # Kolom label"
   ]
  },
  {
   "cell_type": "code",
   "execution_count": 15,
   "id": "09031867-83d7-4c46-82e0-6a6639324982",
   "metadata": {
    "colab": {
     "base_uri": "https://localhost:8080/",
     "height": 424
    },
    "executionInfo": {
     "elapsed": 185,
     "status": "ok",
     "timestamp": 1745994800711,
     "user": {
      "displayName": "Ira Ekanda Putri",
      "userId": "16829777542153973849"
     },
     "user_tz": -420
    },
    "id": "09031867-83d7-4c46-82e0-6a6639324982",
    "outputId": "dc1b1f48-b1e6-4e6f-95ec-d54ed079b33a"
   },
   "outputs": [
    {
     "data": {
      "text/html": [
       "<div>\n",
       "<style scoped>\n",
       "    .dataframe tbody tr th:only-of-type {\n",
       "        vertical-align: middle;\n",
       "    }\n",
       "\n",
       "    .dataframe tbody tr th {\n",
       "        vertical-align: top;\n",
       "    }\n",
       "\n",
       "    .dataframe thead th {\n",
       "        text-align: right;\n",
       "    }\n",
       "</style>\n",
       "<table border=\"1\" class=\"dataframe\">\n",
       "  <thead>\n",
       "    <tr style=\"text-align: right;\">\n",
       "      <th></th>\n",
       "      <th>stemming</th>\n",
       "      <th>processed_text</th>\n",
       "    </tr>\n",
       "  </thead>\n",
       "  <tbody>\n",
       "    <tr>\n",
       "      <th>0</th>\n",
       "      <td>lagu bosan save</td>\n",
       "      <td>[lagu, bosan, save]</td>\n",
       "    </tr>\n",
       "    <tr>\n",
       "      <th>1</th>\n",
       "      <td>lanjut diam erti hati</td>\n",
       "      <td>[lanjut, diam, erti, hati]</td>\n",
       "    </tr>\n",
       "    <tr>\n",
       "      <th>2</th>\n",
       "      <td>doa rezeki putus inna haa larizquna maa lahu m...</td>\n",
       "      <td>[doa, rezeki, putus, inna, haa, larizquna, maa...</td>\n",
       "    </tr>\n",
       "    <tr>\n",
       "      <th>3</th>\n",
       "      <td>makasih loh ntar hasil sisa</td>\n",
       "      <td>[makasih, loh, ntar, hasil, sisa]</td>\n",
       "    </tr>\n",
       "    <tr>\n",
       "      <th>4</th>\n",
       "      <td>faham jenis orang malaysia ret nak sangkut hos...</td>\n",
       "      <td>[faham, jenis, orang, malaysia, ret, nak, sang...</td>\n",
       "    </tr>\n",
       "    <tr>\n",
       "      <th>...</th>\n",
       "      <td>...</td>\n",
       "      <td>...</td>\n",
       "    </tr>\n",
       "    <tr>\n",
       "      <th>10613</th>\n",
       "      <td>hidup orang milik karunia</td>\n",
       "      <td>[hidup, orang, milik, karunia]</td>\n",
       "    </tr>\n",
       "    <tr>\n",
       "      <th>10614</th>\n",
       "      <td>uname ntar gua follow</td>\n",
       "      <td>[uname, ntar, gua, follow]</td>\n",
       "    </tr>\n",
       "    <tr>\n",
       "      <th>10615</th>\n",
       "      <td>laku temu maaf hati botkece</td>\n",
       "      <td>[laku, temu, maaf, hati, botkece]</td>\n",
       "    </tr>\n",
       "    <tr>\n",
       "      <th>10616</th>\n",
       "      <td>dah hafal</td>\n",
       "      <td>[dah, hafal]</td>\n",
       "    </tr>\n",
       "    <tr>\n",
       "      <th>10617</th>\n",
       "      <td>moga urus orang stress kisah pasal kerja</td>\n",
       "      <td>[moga, urus, orang, stress, kisah, pasal, kerja]</td>\n",
       "    </tr>\n",
       "  </tbody>\n",
       "</table>\n",
       "<p>10618 rows × 2 columns</p>\n",
       "</div>"
      ],
      "text/plain": [
       "                                                stemming  \\\n",
       "0                                        lagu bosan save   \n",
       "1                                  lanjut diam erti hati   \n",
       "2      doa rezeki putus inna haa larizquna maa lahu m...   \n",
       "3                            makasih loh ntar hasil sisa   \n",
       "4      faham jenis orang malaysia ret nak sangkut hos...   \n",
       "...                                                  ...   \n",
       "10613                          hidup orang milik karunia   \n",
       "10614                              uname ntar gua follow   \n",
       "10615                        laku temu maaf hati botkece   \n",
       "10616                                          dah hafal   \n",
       "10617           moga urus orang stress kisah pasal kerja   \n",
       "\n",
       "                                          processed_text  \n",
       "0                                    [lagu, bosan, save]  \n",
       "1                             [lanjut, diam, erti, hati]  \n",
       "2      [doa, rezeki, putus, inna, haa, larizquna, maa...  \n",
       "3                      [makasih, loh, ntar, hasil, sisa]  \n",
       "4      [faham, jenis, orang, malaysia, ret, nak, sang...  \n",
       "...                                                  ...  \n",
       "10613                     [hidup, orang, milik, karunia]  \n",
       "10614                         [uname, ntar, gua, follow]  \n",
       "10615                  [laku, temu, maaf, hati, botkece]  \n",
       "10616                                       [dah, hafal]  \n",
       "10617   [moga, urus, orang, stress, kisah, pasal, kerja]  \n",
       "\n",
       "[10618 rows x 2 columns]"
      ]
     },
     "execution_count": 15,
     "metadata": {},
     "output_type": "execute_result"
    }
   ],
   "source": [
    "# Preprocess text for Word2Vec\n",
    "def preprocess_text(text):\n",
    "    return simple_preprocess(text)\n",
    "\n",
    "# Apply preprocessing to the text column\n",
    "X_df = pd.DataFrame({'stemming': data['stemming']})\n",
    "X_df['processed_text'] = X_df['stemming'].apply(preprocess_text)\n",
    "X_df"
   ]
  },
  {
   "cell_type": "code",
   "execution_count": 16,
   "id": "1bb8986f-8fc6-4d24-82c7-9f54763e6ab0",
   "metadata": {
    "executionInfo": {
     "elapsed": 699,
     "status": "ok",
     "timestamp": 1745994804255,
     "user": {
      "displayName": "Ira Ekanda Putri",
      "userId": "16829777542153973849"
     },
     "user_tz": -420
    },
    "id": "1bb8986f-8fc6-4d24-82c7-9f54763e6ab0"
   },
   "outputs": [],
   "source": [
    "# Prepare Word2Vec model\n",
    "# sg=1 : menggunakan skipgram\n",
    "word2vec_model = Word2Vec(sentences=X_df['processed_text'], vector_size=150, window=5, sg=1)"
   ]
  },
  {
   "cell_type": "code",
   "execution_count": 17,
   "id": "485ddafd-4d1a-428c-8053-4cba58ef6f02",
   "metadata": {
    "colab": {
     "base_uri": "https://localhost:8080/",
     "height": 424
    },
    "executionInfo": {
     "elapsed": 244,
     "status": "ok",
     "timestamp": 1745994807989,
     "user": {
      "displayName": "Ira Ekanda Putri",
      "userId": "16829777542153973849"
     },
     "user_tz": -420
    },
    "id": "485ddafd-4d1a-428c-8053-4cba58ef6f02",
    "outputId": "522e63f1-a006-415a-c34a-74a92edab1a9"
   },
   "outputs": [
    {
     "data": {
      "text/html": [
       "<div>\n",
       "<style scoped>\n",
       "    .dataframe tbody tr th:only-of-type {\n",
       "        vertical-align: middle;\n",
       "    }\n",
       "\n",
       "    .dataframe tbody tr th {\n",
       "        vertical-align: top;\n",
       "    }\n",
       "\n",
       "    .dataframe thead th {\n",
       "        text-align: right;\n",
       "    }\n",
       "</style>\n",
       "<table border=\"1\" class=\"dataframe\">\n",
       "  <thead>\n",
       "    <tr style=\"text-align: right;\">\n",
       "      <th></th>\n",
       "      <th>stemming</th>\n",
       "      <th>processed_text</th>\n",
       "      <th>word2vec</th>\n",
       "    </tr>\n",
       "  </thead>\n",
       "  <tbody>\n",
       "    <tr>\n",
       "      <th>0</th>\n",
       "      <td>lagu bosan save</td>\n",
       "      <td>[lagu, bosan, save]</td>\n",
       "      <td>[0.022599379, -0.10406872, -0.0590228, -0.0888...</td>\n",
       "    </tr>\n",
       "    <tr>\n",
       "      <th>1</th>\n",
       "      <td>lanjut diam erti hati</td>\n",
       "      <td>[lanjut, diam, erti, hati]</td>\n",
       "      <td>[0.036017783, -0.082415536, -0.06379045, -0.05...</td>\n",
       "    </tr>\n",
       "    <tr>\n",
       "      <th>2</th>\n",
       "      <td>doa rezeki putus inna haa larizquna maa lahu m...</td>\n",
       "      <td>[doa, rezeki, putus, inna, haa, larizquna, maa...</td>\n",
       "      <td>[0.02525125, -0.09175922, -0.07091337, -0.0788...</td>\n",
       "    </tr>\n",
       "    <tr>\n",
       "      <th>3</th>\n",
       "      <td>makasih loh ntar hasil sisa</td>\n",
       "      <td>[makasih, loh, ntar, hasil, sisa]</td>\n",
       "      <td>[0.0071716323, -0.1117111, -0.059720933, -0.09...</td>\n",
       "    </tr>\n",
       "    <tr>\n",
       "      <th>4</th>\n",
       "      <td>faham jenis orang malaysia ret nak sangkut hos...</td>\n",
       "      <td>[faham, jenis, orang, malaysia, ret, nak, sang...</td>\n",
       "      <td>[0.07591792, -0.080137946, -0.087534845, -0.05...</td>\n",
       "    </tr>\n",
       "    <tr>\n",
       "      <th>...</th>\n",
       "      <td>...</td>\n",
       "      <td>...</td>\n",
       "      <td>...</td>\n",
       "    </tr>\n",
       "    <tr>\n",
       "      <th>10613</th>\n",
       "      <td>hidup orang milik karunia</td>\n",
       "      <td>[hidup, orang, milik, karunia]</td>\n",
       "      <td>[0.057322282, -0.092929445, -0.060840115, -0.0...</td>\n",
       "    </tr>\n",
       "    <tr>\n",
       "      <th>10614</th>\n",
       "      <td>uname ntar gua follow</td>\n",
       "      <td>[uname, ntar, gua, follow]</td>\n",
       "      <td>[0.012019842, -0.11510209, -0.05948122, -0.116...</td>\n",
       "    </tr>\n",
       "    <tr>\n",
       "      <th>10615</th>\n",
       "      <td>laku temu maaf hati botkece</td>\n",
       "      <td>[laku, temu, maaf, hati, botkece]</td>\n",
       "      <td>[0.022423252, -0.10813189, -0.05775208, -0.066...</td>\n",
       "    </tr>\n",
       "    <tr>\n",
       "      <th>10616</th>\n",
       "      <td>dah hafal</td>\n",
       "      <td>[dah, hafal]</td>\n",
       "      <td>[0.083431095, -0.05612645, -0.09341305, -0.050...</td>\n",
       "    </tr>\n",
       "    <tr>\n",
       "      <th>10617</th>\n",
       "      <td>moga urus orang stress kisah pasal kerja</td>\n",
       "      <td>[moga, urus, orang, stress, kisah, pasal, kerja]</td>\n",
       "      <td>[0.04736386, -0.09622537, -0.07621666, -0.0825...</td>\n",
       "    </tr>\n",
       "  </tbody>\n",
       "</table>\n",
       "<p>10618 rows × 3 columns</p>\n",
       "</div>"
      ],
      "text/plain": [
       "                                                stemming  \\\n",
       "0                                        lagu bosan save   \n",
       "1                                  lanjut diam erti hati   \n",
       "2      doa rezeki putus inna haa larizquna maa lahu m...   \n",
       "3                            makasih loh ntar hasil sisa   \n",
       "4      faham jenis orang malaysia ret nak sangkut hos...   \n",
       "...                                                  ...   \n",
       "10613                          hidup orang milik karunia   \n",
       "10614                              uname ntar gua follow   \n",
       "10615                        laku temu maaf hati botkece   \n",
       "10616                                          dah hafal   \n",
       "10617           moga urus orang stress kisah pasal kerja   \n",
       "\n",
       "                                          processed_text  \\\n",
       "0                                    [lagu, bosan, save]   \n",
       "1                             [lanjut, diam, erti, hati]   \n",
       "2      [doa, rezeki, putus, inna, haa, larizquna, maa...   \n",
       "3                      [makasih, loh, ntar, hasil, sisa]   \n",
       "4      [faham, jenis, orang, malaysia, ret, nak, sang...   \n",
       "...                                                  ...   \n",
       "10613                     [hidup, orang, milik, karunia]   \n",
       "10614                         [uname, ntar, gua, follow]   \n",
       "10615                  [laku, temu, maaf, hati, botkece]   \n",
       "10616                                       [dah, hafal]   \n",
       "10617   [moga, urus, orang, stress, kisah, pasal, kerja]   \n",
       "\n",
       "                                                word2vec  \n",
       "0      [0.022599379, -0.10406872, -0.0590228, -0.0888...  \n",
       "1      [0.036017783, -0.082415536, -0.06379045, -0.05...  \n",
       "2      [0.02525125, -0.09175922, -0.07091337, -0.0788...  \n",
       "3      [0.0071716323, -0.1117111, -0.059720933, -0.09...  \n",
       "4      [0.07591792, -0.080137946, -0.087534845, -0.05...  \n",
       "...                                                  ...  \n",
       "10613  [0.057322282, -0.092929445, -0.060840115, -0.0...  \n",
       "10614  [0.012019842, -0.11510209, -0.05948122, -0.116...  \n",
       "10615  [0.022423252, -0.10813189, -0.05775208, -0.066...  \n",
       "10616  [0.083431095, -0.05612645, -0.09341305, -0.050...  \n",
       "10617  [0.04736386, -0.09622537, -0.07621666, -0.0825...  \n",
       "\n",
       "[10618 rows x 3 columns]"
      ]
     },
     "execution_count": 17,
     "metadata": {},
     "output_type": "execute_result"
    }
   ],
   "source": [
    "def get_average_word2vec(tokens, model):\n",
    "    vectors = [model.wv[token] for token in tokens if token in model.wv]\n",
    "    if len(vectors) == 0:\n",
    "        return np.zeros(model.vector_size)\n",
    "    return np.mean(vectors, axis=0)\n",
    "\n",
    "X_df['word2vec'] = X_df['processed_text'].apply(lambda x: get_average_word2vec(x, word2vec_model))\n",
    "X_df"
   ]
  },
  {
   "cell_type": "code",
   "execution_count": 18,
   "id": "8efc05cd-7015-467c-ba72-5cb54d7e835b",
   "metadata": {
    "colab": {
     "base_uri": "https://localhost:8080/"
    },
    "executionInfo": {
     "elapsed": 12,
     "status": "ok",
     "timestamp": 1745994809826,
     "user": {
      "displayName": "Ira Ekanda Putri",
      "userId": "16829777542153973849"
     },
     "user_tz": -420
    },
    "id": "8efc05cd-7015-467c-ba72-5cb54d7e835b",
    "outputId": "fbdc60dc-d93a-4b6d-98ce-be872c4ec1d7"
   },
   "outputs": [
    {
     "data": {
      "text/plain": [
       "(10618, 150)"
      ]
     },
     "execution_count": 18,
     "metadata": {},
     "output_type": "execute_result"
    }
   ],
   "source": [
    "X_word2vec = np.array(X_df['word2vec'].tolist())\n",
    "X_word2vec.shape"
   ]
  },
  {
   "cell_type": "code",
   "execution_count": 26,
   "id": "7fa7ddc3",
   "metadata": {},
   "outputs": [
    {
     "data": {
      "text/plain": [
       "'X_df.columns'"
      ]
     },
     "metadata": {},
     "output_type": "display_data"
    },
    {
     "data": {
      "text/plain": [
       "Index(['stemming', 'processed_text', 'word2vec'], dtype='object')"
      ]
     },
     "metadata": {},
     "output_type": "display_data"
    },
    {
     "data": {
      "text/plain": [
       "'Y'"
      ]
     },
     "metadata": {},
     "output_type": "display_data"
    },
    {
     "data": {
      "text/plain": [
       "0       -1\n",
       "1       -1\n",
       "2        1\n",
       "3        1\n",
       "4       -1\n",
       "        ..\n",
       "10613    1\n",
       "10614    0\n",
       "10615    1\n",
       "10616    1\n",
       "10617    1\n",
       "Name: sentimen, Length: 10618, dtype: int64"
      ]
     },
     "metadata": {},
     "output_type": "display_data"
    }
   ],
   "source": [
    "display(\"X_df.columns\", X_df.columns)\n",
    "display(\"Y\", y)"
   ]
  },
  {
   "cell_type": "markdown",
   "id": "391efbb8-a970-46a0-bc65-3c77a8465c8b",
   "metadata": {
    "id": "391efbb8-a970-46a0-bc65-3c77a8465c8b"
   },
   "source": [
    "## Membagi data menjadi training dan testing"
   ]
  },
  {
   "cell_type": "code",
   "execution_count": 19,
   "id": "ef143876-a313-4237-8933-633ddff6f520",
   "metadata": {
    "colab": {
     "base_uri": "https://localhost:8080/"
    },
    "executionInfo": {
     "elapsed": 49,
     "status": "ok",
     "timestamp": 1745994812264,
     "user": {
      "displayName": "Ira Ekanda Putri",
      "userId": "16829777542153973849"
     },
     "user_tz": -420
    },
    "id": "ef143876-a313-4237-8933-633ddff6f520",
    "outputId": "fb4839fd-86f1-4e23-8e70-67ce2b8ac34c"
   },
   "outputs": [
    {
     "name": "stdout",
     "output_type": "stream",
     "text": [
      "Jumlah data train : 8494\n",
      "Jumlah data test  : 2124\n"
     ]
    }
   ],
   "source": [
    "# 80% training dan 20% testing\n",
    "X_train, X_test, y_train, y_test = train_test_split(X_word2vec, y, test_size=0.2, random_state=42)\n",
    "\n",
    "print('Jumlah data train :', X_train.shape[0])\n",
    "print('Jumlah data test  :', X_test.shape[0])"
   ]
  },
  {
   "cell_type": "markdown",
   "id": "aaa99a45",
   "metadata": {},
   "source": [
    "## Naive Bayes"
   ]
  },
  {
   "cell_type": "code",
   "execution_count": 36,
   "id": "c760fae8",
   "metadata": {},
   "outputs": [],
   "source": [
    "from sklearn.naive_bayes import BernoulliNB, ComplementNB, GaussianNB"
   ]
  },
  {
   "cell_type": "markdown",
   "id": "f99b6f13",
   "metadata": {},
   "source": [
    "### Bernoulli Naive-Bayes (BNB)"
   ]
  },
  {
   "cell_type": "code",
   "execution_count": 27,
   "id": "51f84143",
   "metadata": {},
   "outputs": [],
   "source": [
    "bnbclassifier = BernoulliNB()\n",
    "bnbclassifier = bnbclassifier.fit(X_train, y_train)"
   ]
  },
  {
   "cell_type": "code",
   "execution_count": 33,
   "id": "48de2938",
   "metadata": {},
   "outputs": [
    {
     "data": {
      "text/plain": [
       "array([-1, -1, -1, ...,  0, -1,  1], dtype=int64)"
      ]
     },
     "execution_count": 33,
     "metadata": {},
     "output_type": "execute_result"
    }
   ],
   "source": [
    "y_pred = bnbclassifier.predict(X_test)\n",
    "y_pred"
   ]
  },
  {
   "cell_type": "code",
   "execution_count": 34,
   "id": "3388978e",
   "metadata": {},
   "outputs": [
    {
     "data": {
      "image/png": "[encoded data removed]",
      "text/plain": [
       "<Figure size 640x480 with 2 Axes>"
      ]
     },
     "metadata": {},
     "output_type": "display_data"
    }
   ],
   "source": [
    "Confusion_matrix = confusion_matrix(y_test, y_pred, labels=[1, 0, -1])\n",
    "class_label      = ['Positif', 'Netral', 'Negatif', ]\n",
    "df_confusion     = pd.DataFrame(Confusion_matrix, index = class_label, columns = class_label)\n",
    "\n",
    "sns.heatmap(df_confusion, annot=True, fmt = \"d\", cmap=plt.cm.Blues)\n",
    "plt.title('Confusion Matrix')\n",
    "plt.xlabel('Prediction Label')\n",
    "plt.ylabel('Actual Label')\n",
    "plt.show()"
   ]
  },
  {
   "cell_type": "code",
   "execution_count": 35,
   "id": "1bdca733",
   "metadata": {},
   "outputs": [
    {
     "name": "stdout",
     "output_type": "stream",
     "text": [
      "Accuracy   = 42.89 %\n",
      "Precission = 47.26 %\n",
      "Recall     = 42.89 %\n",
      "F1-Score   = 42.8 %\n"
     ]
    }
   ],
   "source": [
    "_accuracy   = round(accuracy_score(y_test, y_pred)*100, 2)\n",
    "_precission = round(precision_score(y_test, y_pred, average='weighted')*100, 2)\n",
    "_recall     = round(recall_score(y_test, y_pred, average='weighted')*100, 2)\n",
    "_fscore     = round(f1_score(y_test, y_pred, average='weighted')*100, 2)\n",
    "\n",
    "print('Accuracy   =', _accuracy,'%')\n",
    "print('Precission =', _precission,'%')\n",
    "print('Recall     =', _recall,'%')\n",
    "print('F1-Score   =', _fscore,'%')"
   ]
  },
  {
   "cell_type": "markdown",
   "id": "ecf39313",
   "metadata": {},
   "source": [
    "### Gausian Naive-Bayes (GNB)"
   ]
  },
  {
   "cell_type": "code",
   "execution_count": 44,
   "id": "08b32e62",
   "metadata": {},
   "outputs": [],
   "source": [
    "gnbclassifier = GaussianNB()\n",
    "gnbclassifier = gnbclassifier.fit(X_train, y_train)"
   ]
  },
  {
   "cell_type": "code",
   "execution_count": 45,
   "id": "ec70ab26",
   "metadata": {},
   "outputs": [
    {
     "data": {
      "text/plain": [
       "array([-1, -1, -1, ...,  0, -1,  1], dtype=int64)"
      ]
     },
     "execution_count": 45,
     "metadata": {},
     "output_type": "execute_result"
    }
   ],
   "source": [
    "y_pred = gnbclassifier.predict(X_test)\n",
    "y_pred"
   ]
  },
  {
   "cell_type": "code",
   "execution_count": 46,
   "id": "86063e3c",
   "metadata": {},
   "outputs": [
    {
     "data": {
      "image/png": "[encoded data removed]",
      "text/plain": [
       "<Figure size 640x480 with 2 Axes>"
      ]
     },
     "metadata": {},
     "output_type": "display_data"
    }
   ],
   "source": [
    "Confusion_matrix = confusion_matrix(y_test, y_pred, labels=[1, 0, -1])\n",
    "class_label      = ['Positif', 'Netral', 'Negatif', ]\n",
    "df_confusion     = pd.DataFrame(Confusion_matrix, index = class_label, columns = class_label)\n",
    "\n",
    "sns.heatmap(df_confusion, annot=True, fmt = \"d\", cmap=plt.cm.Blues)\n",
    "plt.title('Confusion Matrix')\n",
    "plt.xlabel('Prediction Label')\n",
    "plt.ylabel('Actual Label')\n",
    "plt.show()"
   ]
  },
  {
   "cell_type": "code",
   "execution_count": 47,
   "id": "3ad1e05a",
   "metadata": {},
   "outputs": [
    {
     "name": "stdout",
     "output_type": "stream",
     "text": [
      "Accuracy   = 34.23 %\n",
      "Precission = 46.93 %\n",
      "Recall     = 34.23 %\n",
      "F1-Score   = 30.3 %\n"
     ]
    }
   ],
   "source": [
    "_accuracy   = round(accuracy_score(y_test, y_pred)*100, 2)\n",
    "_precission = round(precision_score(y_test, y_pred, average='weighted')*100, 2)\n",
    "_recall     = round(recall_score(y_test, y_pred, average='weighted')*100, 2)\n",
    "_fscore     = round(f1_score(y_test, y_pred, average='weighted')*100, 2)\n",
    "\n",
    "print('Accuracy   =', _accuracy,'%')\n",
    "print('Precission =', _precission,'%')\n",
    "print('Recall     =', _recall,'%')\n",
    "print('F1-Score   =', _fscore,'%')"
   ]
  },
  {
   "cell_type": "markdown",
   "id": "c4fde59c-349c-4ab6-a693-aaf5b2e67c20",
   "metadata": {
    "id": "c4fde59c-349c-4ab6-a693-aaf5b2e67c20"
   },
   "source": [
    "## Support Vector Machine (SVM)"
   ]
  },
  {
   "cell_type": "code",
   "execution_count": 20,
   "id": "4e177bf2-a483-4bfa-a2d6-88256ede07cf",
   "metadata": {
    "colab": {
     "base_uri": "https://localhost:8080/",
     "height": 80
    },
    "executionInfo": {
     "elapsed": 6194,
     "status": "ok",
     "timestamp": 1745994819879,
     "user": {
      "displayName": "Ira Ekanda Putri",
      "userId": "16829777542153973849"
     },
     "user_tz": -420
    },
    "id": "4e177bf2-a483-4bfa-a2d6-88256ede07cf",
    "outputId": "be9ce069-3bc3-4b2a-e21b-27b7ebff78d7"
   },
   "outputs": [
    {
     "data": {
      "text/html": [
       "<style>#sk-container-id-1 {\n",
       "  /* Definition of color scheme common for light and dark mode */\n",
       "  --sklearn-color-text: #000;\n",
       "  --sklearn-color-text-muted: #666;\n",
       "  --sklearn-color-line: gray;\n",
       "  /* Definition of color scheme for unfitted estimators */\n",
       "  --sklearn-color-unfitted-level-0: #fff5e6;\n",
       "  --sklearn-color-unfitted-level-1: #f6e4d2;\n",
       "  --sklearn-color-unfitted-level-2: #ffe0b3;\n",
       "  --sklearn-color-unfitted-level-3: chocolate;\n",
       "  /* Definition of color scheme for fitted estimators */\n",
       "  --sklearn-color-fitted-level-0: #f0f8ff;\n",
       "  --sklearn-color-fitted-level-1: #d4ebff;\n",
       "  --sklearn-color-fitted-level-2: #b3dbfd;\n",
       "  --sklearn-color-fitted-level-3: cornflowerblue;\n",
       "\n",
       "  /* Specific color for light theme */\n",
       "  --sklearn-color-text-on-default-background: var(--sg-text-color, var(--theme-code-foreground, var(--jp-content-font-color1, black)));\n",
       "  --sklearn-color-background: var(--sg-background-color, var(--theme-background, var(--jp-layout-color0, white)));\n",
       "  --sklearn-color-border-box: var(--sg-text-color, var(--theme-code-foreground, var(--jp-content-font-color1, black)));\n",
       "  --sklearn-color-icon: #696969;\n",
       "\n",
       "  @media (prefers-color-scheme: dark) {\n",
       "    /* Redefinition of color scheme for dark theme */\n",
       "    --sklearn-color-text-on-default-background: var(--sg-text-color, var(--theme-code-foreground, var(--jp-content-font-color1, white)));\n",
       "    --sklearn-color-background: var(--sg-background-color, var(--theme-background, var(--jp-layout-color0, #111)));\n",
       "    --sklearn-color-border-box: var(--sg-text-color, var(--theme-code-foreground, var(--jp-content-font-color1, white)));\n",
       "    --sklearn-color-icon: #878787;\n",
       "  }\n",
       "}\n",
       "\n",
       "#sk-container-id-1 {\n",
       "  color: var(--sklearn-color-text);\n",
       "}\n",
       "\n",
       "#sk-container-id-1 pre {\n",
       "  padding: 0;\n",
       "}\n",
       "\n",
       "#sk-container-id-1 input.sk-hidden--visually {\n",
       "  border: 0;\n",
       "  clip: rect(1px 1px 1px 1px);\n",
       "  clip: rect(1px, 1px, 1px, 1px);\n",
       "  height: 1px;\n",
       "  margin: -1px;\n",
       "  overflow: hidden;\n",
       "  padding: 0;\n",
       "  position: absolute;\n",
       "  width: 1px;\n",
       "}\n",
       "\n",
       "#sk-container-id-1 div.sk-dashed-wrapped {\n",
       "  border: 1px dashed var(--sklearn-color-line);\n",
       "  margin: 0 0.4em 0.5em 0.4em;\n",
       "  box-sizing: border-box;\n",
       "  padding-bottom: 0.4em;\n",
       "  background-color: var(--sklearn-color-background);\n",
       "}\n",
       "\n",
       "#sk-container-id-1 div.sk-container {\n",
       "  /* jupyter's `normalize.less` sets `[hidden] { display: none; }`\n",
       "     but bootstrap.min.css set `[hidden] { display: none !important; }`\n",
       "     so we also need the `!important` here to be able to override the\n",
       "     default hidden behavior on the sphinx rendered scikit-learn.org.\n",
       "     See: https://github.com/scikit-learn/scikit-learn/issues/21755 */\n",
       "  display: inline-block !important;\n",
       "  position: relative;\n",
       "}\n",
       "\n",
       "#sk-container-id-1 div.sk-text-repr-fallback {\n",
       "  display: none;\n",
       "}\n",
       "\n",
       "div.sk-parallel-item,\n",
       "div.sk-serial,\n",
       "div.sk-item {\n",
       "  /* draw centered vertical line to link estimators */\n",
       "  background-image: linear-gradient(var(--sklearn-color-text-on-default-background), var(--sklearn-color-text-on-default-background));\n",
       "  background-size: 2px 100%;\n",
       "  background-repeat: no-repeat;\n",
       "  background-position: center center;\n",
       "}\n",
       "\n",
       "/* Parallel-specific style estimator block */\n",
       "\n",
       "#sk-container-id-1 div.sk-parallel-item::after {\n",
       "  content: \"\";\n",
       "  width: 100%;\n",
       "  border-bottom: 2px solid var(--sklearn-color-text-on-default-background);\n",
       "  flex-grow: 1;\n",
       "}\n",
       "\n",
       "#sk-container-id-1 div.sk-parallel {\n",
       "  display: flex;\n",
       "  align-items: stretch;\n",
       "  justify-content: center;\n",
       "  background-color: var(--sklearn-color-background);\n",
       "  position: relative;\n",
       "}\n",
       "\n",
       "#sk-container-id-1 div.sk-parallel-item {\n",
       "  display: flex;\n",
       "  flex-direction: column;\n",
       "}\n",
       "\n",
       "#sk-container-id-1 div.sk-parallel-item:first-child::after {\n",
       "  align-self: flex-end;\n",
       "  width: 50%;\n",
       "}\n",
       "\n",
       "#sk-container-id-1 div.sk-parallel-item:last-child::after {\n",
       "  align-self: flex-start;\n",
       "  width: 50%;\n",
       "}\n",
       "\n",
       "#sk-container-id-1 div.sk-parallel-item:only-child::after {\n",
       "  width: 0;\n",
       "}\n",
       "\n",
       "/* Serial-specific style estimator block */\n",
       "\n",
       "#sk-container-id-1 div.sk-serial {\n",
       "  display: flex;\n",
       "  flex-direction: column;\n",
       "  align-items: center;\n",
       "  background-color: var(--sklearn-color-background);\n",
       "  padding-right: 1em;\n",
       "  padding-left: 1em;\n",
       "}\n",
       "\n",
       "\n",
       "/* Toggleable style: style used for estimator/Pipeline/ColumnTransformer box that is\n",
       "clickable and can be expanded/collapsed.\n",
       "- Pipeline and ColumnTransformer use this feature and define the default style\n",
       "- Estimators will overwrite some part of the style using the `sk-estimator` class\n",
       "*/\n",
       "\n",
       "/* Pipeline and ColumnTransformer style (default) */\n",
       "\n",
       "#sk-container-id-1 div.sk-toggleable {\n",
       "  /* Default theme specific background. It is overwritten whether we have a\n",
       "  specific estimator or a Pipeline/ColumnTransformer */\n",
       "  background-color: var(--sklearn-color-background);\n",
       "}\n",
       "\n",
       "/* Toggleable label */\n",
       "#sk-container-id-1 label.sk-toggleable__label {\n",
       "  cursor: pointer;\n",
       "  display: flex;\n",
       "  width: 100%;\n",
       "  margin-bottom: 0;\n",
       "  padding: 0.5em;\n",
       "  box-sizing: border-box;\n",
       "  text-align: center;\n",
       "  align-items: start;\n",
       "  justify-content: space-between;\n",
       "  gap: 0.5em;\n",
       "}\n",
       "\n",
       "#sk-container-id-1 label.sk-toggleable__label .caption {\n",
       "  font-size: 0.6rem;\n",
       "  font-weight: lighter;\n",
       "  color: var(--sklearn-color-text-muted);\n",
       "}\n",
       "\n",
       "#sk-container-id-1 label.sk-toggleable__label-arrow:before {\n",
       "  /* Arrow on the left of the label */\n",
       "  content: \"▸\";\n",
       "  float: left;\n",
       "  margin-right: 0.25em;\n",
       "  color: var(--sklearn-color-icon);\n",
       "}\n",
       "\n",
       "#sk-container-id-1 label.sk-toggleable__label-arrow:hover:before {\n",
       "  color: var(--sklearn-color-text);\n",
       "}\n",
       "\n",
       "/* Toggleable content - dropdown */\n",
       "\n",
       "#sk-container-id-1 div.sk-toggleable__content {\n",
       "  max-height: 0;\n",
       "  max-width: 0;\n",
       "  overflow: hidden;\n",
       "  text-align: left;\n",
       "  /* unfitted */\n",
       "  background-color: var(--sklearn-color-unfitted-level-0);\n",
       "}\n",
       "\n",
       "#sk-container-id-1 div.sk-toggleable__content.fitted {\n",
       "  /* fitted */\n",
       "  background-color: var(--sklearn-color-fitted-level-0);\n",
       "}\n",
       "\n",
       "#sk-container-id-1 div.sk-toggleable__content pre {\n",
       "  margin: 0.2em;\n",
       "  border-radius: 0.25em;\n",
       "  color: var(--sklearn-color-text);\n",
       "  /* unfitted */\n",
       "  background-color: var(--sklearn-color-unfitted-level-0);\n",
       "}\n",
       "\n",
       "#sk-container-id-1 div.sk-toggleable__content.fitted pre {\n",
       "  /* unfitted */\n",
       "  background-color: var(--sklearn-color-fitted-level-0);\n",
       "}\n",
       "\n",
       "#sk-container-id-1 input.sk-toggleable__control:checked~div.sk-toggleable__content {\n",
       "  /* Expand drop-down */\n",
       "  max-height: 200px;\n",
       "  max-width: 100%;\n",
       "  overflow: auto;\n",
       "}\n",
       "\n",
       "#sk-container-id-1 input.sk-toggleable__control:checked~label.sk-toggleable__label-arrow:before {\n",
       "  content: \"▾\";\n",
       "}\n",
       "\n",
       "/* Pipeline/ColumnTransformer-specific style */\n",
       "\n",
       "#sk-container-id-1 div.sk-label input.sk-toggleable__control:checked~label.sk-toggleable__label {\n",
       "  color: var(--sklearn-color-text);\n",
       "  background-color: var(--sklearn-color-unfitted-level-2);\n",
       "}\n",
       "\n",
       "#sk-container-id-1 div.sk-label.fitted input.sk-toggleable__control:checked~label.sk-toggleable__label {\n",
       "  background-color: var(--sklearn-color-fitted-level-2);\n",
       "}\n",
       "\n",
       "/* Estimator-specific style */\n",
       "\n",
       "/* Colorize estimator box */\n",
       "#sk-container-id-1 div.sk-estimator input.sk-toggleable__control:checked~label.sk-toggleable__label {\n",
       "  /* unfitted */\n",
       "  background-color: var(--sklearn-color-unfitted-level-2);\n",
       "}\n",
       "\n",
       "#sk-container-id-1 div.sk-estimator.fitted input.sk-toggleable__control:checked~label.sk-toggleable__label {\n",
       "  /* fitted */\n",
       "  background-color: var(--sklearn-color-fitted-level-2);\n",
       "}\n",
       "\n",
       "#sk-container-id-1 div.sk-label label.sk-toggleable__label,\n",
       "#sk-container-id-1 div.sk-label label {\n",
       "  /* The background is the default theme color */\n",
       "  color: var(--sklearn-color-text-on-default-background);\n",
       "}\n",
       "\n",
       "/* On hover, darken the color of the background */\n",
       "#sk-container-id-1 div.sk-label:hover label.sk-toggleable__label {\n",
       "  color: var(--sklearn-color-text);\n",
       "  background-color: var(--sklearn-color-unfitted-level-2);\n",
       "}\n",
       "\n",
       "/* Label box, darken color on hover, fitted */\n",
       "#sk-container-id-1 div.sk-label.fitted:hover label.sk-toggleable__label.fitted {\n",
       "  color: var(--sklearn-color-text);\n",
       "  background-color: var(--sklearn-color-fitted-level-2);\n",
       "}\n",
       "\n",
       "/* Estimator label */\n",
       "\n",
       "#sk-container-id-1 div.sk-label label {\n",
       "  font-family: monospace;\n",
       "  font-weight: bold;\n",
       "  display: inline-block;\n",
       "  line-height: 1.2em;\n",
       "}\n",
       "\n",
       "#sk-container-id-1 div.sk-label-container {\n",
       "  text-align: center;\n",
       "}\n",
       "\n",
       "/* Estimator-specific */\n",
       "#sk-container-id-1 div.sk-estimator {\n",
       "  font-family: monospace;\n",
       "  border: 1px dotted var(--sklearn-color-border-box);\n",
       "  border-radius: 0.25em;\n",
       "  box-sizing: border-box;\n",
       "  margin-bottom: 0.5em;\n",
       "  /* unfitted */\n",
       "  background-color: var(--sklearn-color-unfitted-level-0);\n",
       "}\n",
       "\n",
       "#sk-container-id-1 div.sk-estimator.fitted {\n",
       "  /* fitted */\n",
       "  background-color: var(--sklearn-color-fitted-level-0);\n",
       "}\n",
       "\n",
       "/* on hover */\n",
       "#sk-container-id-1 div.sk-estimator:hover {\n",
       "  /* unfitted */\n",
       "  background-color: var(--sklearn-color-unfitted-level-2);\n",
       "}\n",
       "\n",
       "#sk-container-id-1 div.sk-estimator.fitted:hover {\n",
       "  /* fitted */\n",
       "  background-color: var(--sklearn-color-fitted-level-2);\n",
       "}\n",
       "\n",
       "/* Specification for estimator info (e.g. \"i\" and \"?\") */\n",
       "\n",
       "/* Common style for \"i\" and \"?\" */\n",
       "\n",
       ".sk-estimator-doc-link,\n",
       "a:link.sk-estimator-doc-link,\n",
       "a:visited.sk-estimator-doc-link {\n",
       "  float: right;\n",
       "  font-size: smaller;\n",
       "  line-height: 1em;\n",
       "  font-family: monospace;\n",
       "  background-color: var(--sklearn-color-background);\n",
       "  border-radius: 1em;\n",
       "  height: 1em;\n",
       "  width: 1em;\n",
       "  text-decoration: none !important;\n",
       "  margin-left: 0.5em;\n",
       "  text-align: center;\n",
       "  /* unfitted */\n",
       "  border: var(--sklearn-color-unfitted-level-1) 1pt solid;\n",
       "  color: var(--sklearn-color-unfitted-level-1);\n",
       "}\n",
       "\n",
       ".sk-estimator-doc-link.fitted,\n",
       "a:link.sk-estimator-doc-link.fitted,\n",
       "a:visited.sk-estimator-doc-link.fitted {\n",
       "  /* fitted */\n",
       "  border: var(--sklearn-color-fitted-level-1) 1pt solid;\n",
       "  color: var(--sklearn-color-fitted-level-1);\n",
       "}\n",
       "\n",
       "/* On hover */\n",
       "div.sk-estimator:hover .sk-estimator-doc-link:hover,\n",
       ".sk-estimator-doc-link:hover,\n",
       "div.sk-label-container:hover .sk-estimator-doc-link:hover,\n",
       ".sk-estimator-doc-link:hover {\n",
       "  /* unfitted */\n",
       "  background-color: var(--sklearn-color-unfitted-level-3);\n",
       "  color: var(--sklearn-color-background);\n",
       "  text-decoration: none;\n",
       "}\n",
       "\n",
       "div.sk-estimator.fitted:hover .sk-estimator-doc-link.fitted:hover,\n",
       ".sk-estimator-doc-link.fitted:hover,\n",
       "div.sk-label-container:hover .sk-estimator-doc-link.fitted:hover,\n",
       ".sk-estimator-doc-link.fitted:hover {\n",
       "  /* fitted */\n",
       "  background-color: var(--sklearn-color-fitted-level-3);\n",
       "  color: var(--sklearn-color-background);\n",
       "  text-decoration: none;\n",
       "}\n",
       "\n",
       "/* Span, style for the box shown on hovering the info icon */\n",
       ".sk-estimator-doc-link span {\n",
       "  display: none;\n",
       "  z-index: 9999;\n",
       "  position: relative;\n",
       "  font-weight: normal;\n",
       "  right: .2ex;\n",
       "  padding: .5ex;\n",
       "  margin: .5ex;\n",
       "  width: min-content;\n",
       "  min-width: 20ex;\n",
       "  max-width: 50ex;\n",
       "  color: var(--sklearn-color-text);\n",
       "  box-shadow: 2pt 2pt 4pt #999;\n",
       "  /* unfitted */\n",
       "  background: var(--sklearn-color-unfitted-level-0);\n",
       "  border: .5pt solid var(--sklearn-color-unfitted-level-3);\n",
       "}\n",
       "\n",
       ".sk-estimator-doc-link.fitted span {\n",
       "  /* fitted */\n",
       "  background: var(--sklearn-color-fitted-level-0);\n",
       "  border: var(--sklearn-color-fitted-level-3);\n",
       "}\n",
       "\n",
       ".sk-estimator-doc-link:hover span {\n",
       "  display: block;\n",
       "}\n",
       "\n",
       "/* \"?\"-specific style due to the `<a>` HTML tag */\n",
       "\n",
       "#sk-container-id-1 a.estimator_doc_link {\n",
       "  float: right;\n",
       "  font-size: 1rem;\n",
       "  line-height: 1em;\n",
       "  font-family: monospace;\n",
       "  background-color: var(--sklearn-color-background);\n",
       "  border-radius: 1rem;\n",
       "  height: 1rem;\n",
       "  width: 1rem;\n",
       "  text-decoration: none;\n",
       "  /* unfitted */\n",
       "  color: var(--sklearn-color-unfitted-level-1);\n",
       "  border: var(--sklearn-color-unfitted-level-1) 1pt solid;\n",
       "}\n",
       "\n",
       "#sk-container-id-1 a.estimator_doc_link.fitted {\n",
       "  /* fitted */\n",
       "  border: var(--sklearn-color-fitted-level-1) 1pt solid;\n",
       "  color: var(--sklearn-color-fitted-level-1);\n",
       "}\n",
       "\n",
       "/* On hover */\n",
       "#sk-container-id-1 a.estimator_doc_link:hover {\n",
       "  /* unfitted */\n",
       "  background-color: var(--sklearn-color-unfitted-level-3);\n",
       "  color: var(--sklearn-color-background);\n",
       "  text-decoration: none;\n",
       "}\n",
       "\n",
       "#sk-container-id-1 a.estimator_doc_link.fitted:hover {\n",
       "  /* fitted */\n",
       "  background-color: var(--sklearn-color-fitted-level-3);\n",
       "}\n",
       "</style><div id=\"sk-container-id-1\" class=\"sk-top-container\"><div class=\"sk-text-repr-fallback\"><pre>SVC(C=100, gamma=10, kernel=&#x27;linear&#x27;)</pre><b>In a Jupyter environment, please rerun this cell to show the HTML representation or trust the notebook. <br />On GitHub, the HTML representation is unable to render, please try loading this page with nbviewer.org.</b></div><div class=\"sk-container\" hidden><div class=\"sk-item\"><div class=\"sk-estimator fitted sk-toggleable\"><input class=\"sk-toggleable__control sk-hidden--visually\" id=\"sk-estimator-id-1\" type=\"checkbox\" checked><label for=\"sk-estimator-id-1\" class=\"sk-toggleable__label fitted sk-toggleable__label-arrow\"><div><div>SVC</div></div><div><a class=\"sk-estimator-doc-link fitted\" rel=\"noreferrer\" target=\"_blank\" href=\"https://scikit-learn.org/1.6/modules/generated/sklearn.svm.SVC.html\">?<span>Documentation for SVC</span></a><span class=\"sk-estimator-doc-link fitted\">i<span>Fitted</span></span></div></label><div class=\"sk-toggleable__content fitted\"><pre>SVC(C=100, gamma=10, kernel=&#x27;linear&#x27;)</pre></div> </div></div></div></div>"
      ],
      "text/plain": [
       "SVC(C=100, gamma=10, kernel='linear')"
      ]
     },
     "execution_count": 20,
     "metadata": {},
     "output_type": "execute_result"
    }
   ],
   "source": [
    "svclassifier = SVC(kernel='linear', C=100, gamma=10)\n",
    "svclassifier.fit(X_train, y_train)"
   ]
  },
  {
   "cell_type": "code",
   "execution_count": 38,
   "id": "1f71d4c0-5581-4293-927a-7851d5f0236f",
   "metadata": {
    "colab": {
     "base_uri": "https://localhost:8080/"
    },
    "executionInfo": {
     "elapsed": 518,
     "status": "ok",
     "timestamp": 1745994820396,
     "user": {
      "displayName": "Ira Ekanda Putri",
      "userId": "16829777542153973849"
     },
     "user_tz": -420
    },
    "id": "1f71d4c0-5581-4293-927a-7851d5f0236f",
    "outputId": "926f6fd6-9648-4829-9e6e-8af47304eba4"
   },
   "outputs": [
    {
     "data": {
      "text/plain": [
       "array([0, 0, 0, ..., 0, 0, 0], dtype=int64)"
      ]
     },
     "execution_count": 38,
     "metadata": {},
     "output_type": "execute_result"
    }
   ],
   "source": [
    "y_pred = svclassifier.predict(X_test)\n",
    "y_pred"
   ]
  },
  {
   "cell_type": "code",
   "execution_count": 39,
   "id": "eb853a13-4ad5-49d5-8639-96c2f94bb105",
   "metadata": {
    "colab": {
     "base_uri": "https://localhost:8080/",
     "height": 472
    },
    "executionInfo": {
     "elapsed": 258,
     "status": "ok",
     "timestamp": 1745994844963,
     "user": {
      "displayName": "Ira Ekanda Putri",
      "userId": "16829777542153973849"
     },
     "user_tz": -420
    },
    "id": "eb853a13-4ad5-49d5-8639-96c2f94bb105",
    "outputId": "95798bb6-924d-4e6f-9d40-88d58514f58a"
   },
   "outputs": [
    {
     "data": {
      "image/png": "[encoded data removed]",
      "text/plain": [
       "<Figure size 640x480 with 2 Axes>"
      ]
     },
     "metadata": {},
     "output_type": "display_data"
    }
   ],
   "source": [
    "Confusion_matrix = confusion_matrix(y_test, y_pred, labels=[1, 0, -1])\n",
    "class_label      = ['Positif', 'Netral', 'Negatif', ]\n",
    "df_confusion     = pd.DataFrame(Confusion_matrix, index = class_label, columns = class_label)\n",
    "\n",
    "sns.heatmap(df_confusion, annot=True, fmt = \"d\", cmap=plt.cm.Blues)\n",
    "plt.title('Confusion Matrix')\n",
    "plt.xlabel('Prediction Label')\n",
    "plt.ylabel('Actual Label')\n",
    "plt.show()"
   ]
  },
  {
   "cell_type": "code",
   "execution_count": 40,
   "id": "7a149bfa-2198-47a7-b9eb-23a1c910b5ee",
   "metadata": {
    "colab": {
     "base_uri": "https://localhost:8080/"
    },
    "executionInfo": {
     "elapsed": 55,
     "status": "ok",
     "timestamp": 1745994849539,
     "user": {
      "displayName": "Ira Ekanda Putri",
      "userId": "16829777542153973849"
     },
     "user_tz": -420
    },
    "id": "7a149bfa-2198-47a7-b9eb-23a1c910b5ee",
    "outputId": "5e9f83d5-76f6-4181-f6cb-111266214941"
   },
   "outputs": [
    {
     "name": "stdout",
     "output_type": "stream",
     "text": [
      "Accuracy   = 53.15 %\n",
      "Precission = 56.16 %\n",
      "Recall     = 53.15 %\n",
      "F1-Score   = 45.14 %\n"
     ]
    }
   ],
   "source": [
    "_accuracy   = round(accuracy_score(y_test, y_pred)*100, 2)\n",
    "_precission = round(precision_score(y_test, y_pred, average='weighted')*100, 2)\n",
    "_recall     = round(recall_score(y_test, y_pred, average='weighted')*100, 2)\n",
    "_fscore     = round(f1_score(y_test, y_pred, average='weighted')*100, 2)\n",
    "\n",
    "print('Accuracy   =', _accuracy,'%')\n",
    "print('Precission =', _precission,'%')\n",
    "print('Recall     =', _recall,'%')\n",
    "print('F1-Score   =', _fscore,'%')"
   ]
  },
  {
   "cell_type": "code",
   "execution_count": null,
   "id": "a0d779cb-6126-4b00-bbae-bf2108508356",
   "metadata": {
    "id": "a0d779cb-6126-4b00-bbae-bf2108508356"
   },
   "outputs": [],
   "source": []
  }
 ],
 "metadata": {
  "colab": {
   "provenance": []
  },
  "kernelspec": {
   "display_name": "virtualenv",
   "language": "python",
   "name": "python3"
  },
  "language_info": {
   "codemirror_mode": {
    "name": "ipython",
    "version": 3
   },
   "file_extension": ".py",
   "mimetype": "text/x-python",
   "name": "python",
   "nbconvert_exporter": "python",
   "pygments_lexer": "ipython3",
   "version": "3.11.2"
  }
 },
 "nbformat": 4,
 "nbformat_minor": 5
}
